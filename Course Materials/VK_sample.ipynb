{
 "cells": [
  {
   "cell_type": "markdown",
   "metadata": {},
   "source": [
    "## Работа с VK API"
   ]
  },
  {
   "cell_type": "markdown",
   "metadata": {},
   "source": [
    "### Вспомогательный код\n",
    "\n",
    "Простой клиент для VK API . Делаем паузы перед запросами, чтобы в итоге было не более 3 запросов в секунду."
   ]
  },
  {
   "cell_type": "code",
   "execution_count": 1,
   "metadata": {},
   "outputs": [],
   "source": [
    "import time\n",
    "import logging\n",
    "import requests\n",
    "import json\n",
    "import csv\n",
    "\n",
    "logger = logging.getLogger(__name__)\n",
    "\n",
    "PROFILE_FIELDS = ['nickname', 'screen_name', 'sex', 'bdate', 'city', 'relation', 'country', 'home_town',\n",
    "                  'education', 'universities',   'schools',  'occupation'\n",
    "                  'connections', 'relation', 'relatives', \n",
    "                  'interests', 'books', 'last_seen', 'counters', ]    \n",
    "\n",
    "class JsonUtils(object):\n",
    "    @staticmethod\n",
    "    def json_path(json, path, default=''):\n",
    "        splited = path.split('.')\n",
    "        for p in splited:\n",
    "            try:\n",
    "                p_id = int(p)\n",
    "                json = json[p_id]\n",
    "            except:\n",
    "                if p in json:\n",
    "                    json = json[p]\n",
    "                else:\n",
    "                    return default\n",
    "        return json\n",
    "\n",
    "class VkError(Exception):    \n",
    "    pass\n",
    "    \n",
    "class VkAPI(object):    \n",
    "         \n",
    "    def __init__(self, token=None):\n",
    "        self.session = requests.Session()\n",
    "        self.session.headers['Accept'] = 'application/json'\n",
    "        self.session.headers['Content-Type'] = 'application/x-www-form-urlencoded'\n",
    "        \n",
    "        self.token = token\n",
    "        self.requests_times = []\n",
    "        \n",
    "    def _do_api_call(self, method, params):\n",
    "        self._pause_before_request()\n",
    "        \n",
    "        if self.token:\n",
    "            params['access_token'] = self.token\n",
    "        params['v'] = '5.26'\n",
    "            \n",
    "        param_str = '&'.join(['%s=%s' % (k, v) for k, v in params.items()])\n",
    "        url = 'https://api.vk.com/method/%s?%s' % (method, param_str)\n",
    "        logger.debug('API request: %s' % (method))\n",
    "        \n",
    "        response = self.session.get(url)\n",
    "        if response.status_code is not 200:\n",
    "            time.sleep(10)\n",
    "            response = self.session.get(url)\n",
    "            if response.status_code is not 200:\n",
    "                raise VkError('Can\\'t get %s, code %s' % (url, response.status_code))        \n",
    "                \n",
    "        json = response.json()\n",
    "        if 'response' not in json:\n",
    "            if 'error' in json:   \n",
    "                raise VkError('Api call error:  %s' % json['error']['error_msg'])                \n",
    "            else:\n",
    "                raise VkError('Api call error %s - %s' % (url, json))\n",
    "                        \n",
    "        return json['response'] \n",
    "        \n",
    "    def _pause_before_request(self):\n",
    "        if len(self.requests_times) > 1:\n",
    "            first = self.requests_times[0]\n",
    "            diff = time.time() - first\n",
    "            if diff < 1.:\n",
    "                logger.info('Sleepping for %s sec' % (1. - diff))\n",
    "                time.sleep(1.- diff)\n",
    "            self.requests_times = self.requests_times[1:]            \n",
    "        self.requests_times.append(time.time())\n",
    "        \n",
    "    def get_user_profile(self, user_id, fields=PROFILE_FIELDS):    \n",
    "        profile = self._do_api_call('users.get', { 'user_ids' :  user_id,  'fields' : ','.join(fields)})                    \n",
    "        return profile[0]           \n",
    "                            \n",
    "    def get_user_profiles(self, user_ids, fields=PROFILE_FIELDS):                                 \n",
    "        for offset in range(0, len(user_ids) // 100 + 1):            \n",
    "            start, end = offset * 100, (offset + 1) * 100 \n",
    "            ids = ','.join([str(user_id) for user_id in user_ids[start:end]])        \n",
    "            response = self._do_api_call('users.get', { 'user_ids' :  ids,  'fields' : ','.join(fields)})\n",
    "            yield from response        \n",
    "    \n",
    "    def get_group_users(self, group_id, fields=PROFILE_FIELDS):\n",
    "        members_count = self._do_api_call('groups.getById', \n",
    "                                          { 'group_id' :  group_id,  'fields' : 'members_count'})[0]['members_count'] \n",
    "        \n",
    "        for offset in range(0, members_count // 1000 + 1):\n",
    "            response = self._do_api_call('groups.getMembers', { 'group_id' :  group_id, 'offset' : offset * 1000})\n",
    "            yield from response['items']      \n",
    "    \n",
    "    def get_friends(self, user_id, fields=[]):\n",
    "        response = self._do_api_call('friends.get', { 'user_id' : user_id,   'fields' : ','.join(fields)})                    \n",
    "        return response['items']\n",
    "                    \n",
    "    def close():\n",
    "        self.session.close()        \n",
    "\n",
    "    def get_user_network(self, user_id, depth):          \n",
    "        all_profiles = dict()\n",
    "        logger.info('Getting profile for id%s' % user_id)\n",
    "        all_profiles[user_id] = self.get_user_profile(user_id)\n",
    "        \n",
    "        queue = [(user_id, depth)]       \n",
    "        while len(queue) > 0:\n",
    "            head_id, head_depth = queue[0]        \n",
    "            logger.info('Getting friends for id%s' % head_id)   \n",
    "            friends = []\n",
    "            try:\n",
    "                friends = self.get_friends(head_id, fields=[])    \n",
    "            except VkError as e:\n",
    "                pass            \n",
    "            all_profiles[head_id]['friends'] = friends\n",
    "            \n",
    "            if head_depth > 1:            \n",
    "                for friend_id in friends:                    \n",
    "                    if friend_id not in all_profiles:\n",
    "                        all_profiles[friend_id] = {'id' : friend_id }\n",
    "                        queue.append((friend_id, head_depth - 1))\n",
    "            queue.pop(0) \n",
    "        return all_profiles \n",
    "    \n",
    "    @staticmethod         \n",
    "    def save_friends_csv(fname, user_network):   \n",
    "        with open(fname, 'w') as of:\n",
    "            pairs = set()\n",
    "            for k, v in user_network.items():\n",
    "                k = int(k)\n",
    "                for fr in v['friends']:\n",
    "                    if fr in user_network:                    \n",
    "                        if (k, fr) not in pairs:\n",
    "                            of.write('%d %d\\n' % (k, fr))\n",
    "                            pairs.add((k, fr))\n",
    "                        if (fr, k) not in pairs:\n",
    "                            of.write('%d %d\\n' % (fr, k))\n",
    "                            pairs.add((fr, k))   \n",
    "     \n",
    "    @staticmethod                        \n",
    "    def save_profiles_json(fname, user_network):   \n",
    "        with open(fname, 'w', encoding='utf-8') as of:\n",
    "            of.write(json.dumps(user_network)) \n",
    "            \n",
    "    @staticmethod \n",
    "    def save_profiles_csv(fname, user_network):         \n",
    "        fields = ['id', 'nickname', 'first_name', 'last_name', 'bdate', 'screen_name', 'sex', \n",
    "                  'city.id', 'city.title', \n",
    "                  'home_town',\n",
    "                  'country.id', 'country.title', \n",
    "                  'universities.0.id', 'universities.0.name', 'universities.0.city', 'universities.0.graduation', \n",
    "                  'occupation.type', 'occupation.id', 'occupation.name', \n",
    "                  'schools.0.id', 'schools.0.name', 'schools.0.city', 'schools.0.year_graduated', \n",
    "                  ]\n",
    "\n",
    "        with open(fname, 'wb') as of:           \n",
    "            profiles_writer = csv.DictWriter(of, delimiter=',', quoting=csv.QUOTE_NONNUMERIC, fieldnames=fields)\n",
    "            profiles_writer.writeheader()\n",
    "            for user_profile in user_network:\n",
    "                profiles_writer.writerow({ field : JsonUtils.json_path(user_profile, field).encode('utf-8') for field in fields})                     "
   ]
  },
  {
   "cell_type": "markdown",
   "metadata": {},
   "source": [
    "Стандартная шапка"
   ]
  },
  {
   "cell_type": "code",
   "execution_count": 2,
   "metadata": {},
   "outputs": [],
   "source": [
    "import numpy as np\n",
    "import scipy as sp\n",
    "import pandas as pd\n",
    "import matplotlib.pyplot as plt"
   ]
  },
  {
   "cell_type": "markdown",
   "metadata": {},
   "source": [
    "## Получение друзей пользователя и простейший анализ дружеских связей"
   ]
  },
  {
   "cell_type": "markdown",
   "metadata": {},
   "source": [
    "Создаем объект, с помощью которого будем обращаться к API Вконтакте"
   ]
  },
  {
   "cell_type": "code",
   "execution_count": 3,
   "metadata": {},
   "outputs": [],
   "source": [
    "import numpy as np\n",
    "import scipy as sp\n",
    "import pandas as pd\n",
    "import matplotlib.pyplot as plt\n",
    "\n",
    "from tqdm import tqdm\n",
    "\n",
    "api = VkAPI()"
   ]
  },
  {
   "cell_type": "markdown",
   "metadata": {},
   "source": [
    "Получаем случайное целое число, оно будет идентификатором пользователя, над которым будем эксперементировать"
   ]
  },
  {
   "cell_type": "code",
   "execution_count": 4,
   "metadata": {},
   "outputs": [],
   "source": [
    "user_id = 6 #np.random.randint(1, 5000)"
   ]
  },
  {
   "cell_type": "markdown",
   "metadata": {},
   "source": [
    "Загружаем идентификаторы всех друзей нашего пользователя, потом списки всех друзей друзей и сохраняем результат в словаре"
   ]
  },
  {
   "cell_type": "code",
   "execution_count": 5,
   "metadata": {},
   "outputs": [
    {
     "name": "stderr",
     "output_type": "stream",
     "text": [
      "100%|██████████| 292/292 [02:26<00:00,  2.00it/s]\n"
     ]
    }
   ],
   "source": [
    "friends_ids = api.get_friends(user_id)\n",
    "friends_ids_set = set(friends_ids)\n",
    "\n",
    "user_network = { user_id : friends_ids }\n",
    "\n",
    "for friend_id in tqdm(friends_ids):\n",
    "    try:\n",
    "        friend_friends_ids = api.get_friends(friend_id)\n",
    "        user_network[friend_id] = [x for x in friend_friends_ids if x in friends_ids_set]\n",
    "    except:\n",
    "        pass"
   ]
  },
  {
   "cell_type": "markdown",
   "metadata": {},
   "source": [
    "Загружаем профили друзей"
   ]
  },
  {
   "cell_type": "code",
   "execution_count": 6,
   "metadata": {},
   "outputs": [],
   "source": [
    "friend_profiles = list(api.get_user_profiles(friends_ids))"
   ]
  },
  {
   "cell_type": "markdown",
   "metadata": {},
   "source": [
    "friend_profiles содержит список объектов, которые полностью повторяют формат json-ответов из VK API. Например, чтобы получить город первого друга, нужно запустить что-то вроде:"
   ]
  },
  {
   "cell_type": "code",
   "execution_count": 7,
   "metadata": {},
   "outputs": [
    {
     "name": "stdout",
     "output_type": "stream",
     "text": [
      "Moscow\n"
     ]
    }
   ],
   "source": [
    "print(friend_profiles[0]['city']['title'])"
   ]
  },
  {
   "cell_type": "code",
   "execution_count": 8,
   "metadata": {},
   "outputs": [
    {
     "data": {
      "text/plain": [
       "dict_keys(['id', 'first_name', 'last_name', 'sex', 'nickname', 'screen_name', 'bdate', 'city', 'country', 'last_seen'])"
      ]
     },
     "execution_count": 8,
     "metadata": {},
     "output_type": "execute_result"
    }
   ],
   "source": [
    "friend_profiles[0].keys()"
   ]
  },
  {
   "cell_type": "markdown",
   "metadata": {},
   "source": [
    "Теперь попробуем воспользоваться Pandas, для этого нам нужно превратить иерархические даные из профиля к плоскому, табличному виду. В данным момент нам интересны только поля из списка *fields*, в котором *schools.0.year_graduated* означает: \"взять год окончания первой (хронологически последней) школы из спика\". Далее получаем: "
   ]
  },
  {
   "cell_type": "code",
   "execution_count": 9,
   "metadata": {},
   "outputs": [
    {
     "data": {
      "text/html": [
       "<div>\n",
       "<style scoped>\n",
       "    .dataframe tbody tr th:only-of-type {\n",
       "        vertical-align: middle;\n",
       "    }\n",
       "\n",
       "    .dataframe tbody tr th {\n",
       "        vertical-align: top;\n",
       "    }\n",
       "\n",
       "    .dataframe thead th {\n",
       "        text-align: right;\n",
       "    }\n",
       "</style>\n",
       "<table border=\"1\" class=\"dataframe\">\n",
       "  <thead>\n",
       "    <tr style=\"text-align: right;\">\n",
       "      <th></th>\n",
       "      <th>first_name</th>\n",
       "      <th>last_name</th>\n",
       "      <th>bdate</th>\n",
       "      <th>sex</th>\n",
       "      <th>city.title</th>\n",
       "      <th>universities.0.name</th>\n",
       "      <th>schools.0.name</th>\n",
       "      <th>schools.0.year_graduated</th>\n",
       "    </tr>\n",
       "  </thead>\n",
       "  <tbody>\n",
       "    <tr>\n",
       "      <td>5</td>\n",
       "      <td>Ilya</td>\n",
       "      <td>Perekopsky</td>\n",
       "      <td>18.11</td>\n",
       "      <td>2</td>\n",
       "      <td>Moscow</td>\n",
       "      <td>None</td>\n",
       "      <td>None</td>\n",
       "      <td>NaN</td>\n",
       "    </tr>\n",
       "    <tr>\n",
       "      <td>7</td>\n",
       "      <td>Alexey</td>\n",
       "      <td>Kobylyansky</td>\n",
       "      <td>None</td>\n",
       "      <td>2</td>\n",
       "      <td>London</td>\n",
       "      <td>None</td>\n",
       "      <td>None</td>\n",
       "      <td>NaN</td>\n",
       "    </tr>\n",
       "    <tr>\n",
       "      <td>10</td>\n",
       "      <td>Alexander</td>\n",
       "      <td>Kuznetsov</td>\n",
       "      <td>None</td>\n",
       "      <td>2</td>\n",
       "      <td>Saint Petersburg</td>\n",
       "      <td>None</td>\n",
       "      <td>None</td>\n",
       "      <td>NaN</td>\n",
       "    </tr>\n",
       "    <tr>\n",
       "      <td>14</td>\n",
       "      <td>Andrey</td>\n",
       "      <td>Gorodetsky</td>\n",
       "      <td>29.6.1982</td>\n",
       "      <td>2</td>\n",
       "      <td>London</td>\n",
       "      <td>СПбГУ</td>\n",
       "      <td>Вторая Санкт-Петербургская Гимназия</td>\n",
       "      <td>1999.0</td>\n",
       "    </tr>\n",
       "    <tr>\n",
       "      <td>17</td>\n",
       "      <td>Alexander</td>\n",
       "      <td>Bespalov</td>\n",
       "      <td>21.10.1982</td>\n",
       "      <td>2</td>\n",
       "      <td>Saint Petersburg</td>\n",
       "      <td>None</td>\n",
       "      <td>None</td>\n",
       "      <td>NaN</td>\n",
       "    </tr>\n",
       "    <tr>\n",
       "      <td>21</td>\n",
       "      <td>Mikhail</td>\n",
       "      <td>Ravdonikas</td>\n",
       "      <td>23.7.1985</td>\n",
       "      <td>2</td>\n",
       "      <td>Saint Petersburg</td>\n",
       "      <td>СПбГУ</td>\n",
       "      <td>None</td>\n",
       "      <td>NaN</td>\n",
       "    </tr>\n",
       "    <tr>\n",
       "      <td>23</td>\n",
       "      <td>Andrey</td>\n",
       "      <td>Stolbovsky</td>\n",
       "      <td>14.11</td>\n",
       "      <td>2</td>\n",
       "      <td>Saint Petersburg</td>\n",
       "      <td>None</td>\n",
       "      <td>None</td>\n",
       "      <td>NaN</td>\n",
       "    </tr>\n",
       "    <tr>\n",
       "      <td>34</td>\n",
       "      <td>Tatyana</td>\n",
       "      <td>Plutalova</td>\n",
       "      <td>2.6</td>\n",
       "      <td>1</td>\n",
       "      <td>Saint Petersburg</td>\n",
       "      <td>None</td>\n",
       "      <td>None</td>\n",
       "      <td>NaN</td>\n",
       "    </tr>\n",
       "    <tr>\n",
       "      <td>42</td>\n",
       "      <td>Sergey</td>\n",
       "      <td>Markin</td>\n",
       "      <td>20.4</td>\n",
       "      <td>2</td>\n",
       "      <td>Saint Petersburg</td>\n",
       "      <td>None</td>\n",
       "      <td>None</td>\n",
       "      <td>NaN</td>\n",
       "    </tr>\n",
       "    <tr>\n",
       "      <td>45</td>\n",
       "      <td>Sergey</td>\n",
       "      <td>Vinogradov</td>\n",
       "      <td>28.1</td>\n",
       "      <td>2</td>\n",
       "      <td>Saint Petersburg</td>\n",
       "      <td>None</td>\n",
       "      <td>None</td>\n",
       "      <td>NaN</td>\n",
       "    </tr>\n",
       "    <tr>\n",
       "      <td>46</td>\n",
       "      <td>Andrey</td>\n",
       "      <td>Lesokhin</td>\n",
       "      <td>14.7.1984</td>\n",
       "      <td>2</td>\n",
       "      <td>Saint Petersburg</td>\n",
       "      <td>None</td>\n",
       "      <td>None</td>\n",
       "      <td>NaN</td>\n",
       "    </tr>\n",
       "    <tr>\n",
       "      <td>57</td>\n",
       "      <td>Sergey</td>\n",
       "      <td>Vladimirov</td>\n",
       "      <td>None</td>\n",
       "      <td>2</td>\n",
       "      <td>None</td>\n",
       "      <td>None</td>\n",
       "      <td>None</td>\n",
       "      <td>NaN</td>\n",
       "    </tr>\n",
       "    <tr>\n",
       "      <td>59</td>\n",
       "      <td>Anastasia</td>\n",
       "      <td>Zheludkova</td>\n",
       "      <td>2.4.1985</td>\n",
       "      <td>1</td>\n",
       "      <td>Moscow</td>\n",
       "      <td>None</td>\n",
       "      <td>None</td>\n",
       "      <td>NaN</td>\n",
       "    </tr>\n",
       "    <tr>\n",
       "      <td>169</td>\n",
       "      <td>Olga</td>\n",
       "      <td>Chistokletova</td>\n",
       "      <td>5.6.1987</td>\n",
       "      <td>1</td>\n",
       "      <td>Saint Petersburg</td>\n",
       "      <td>None</td>\n",
       "      <td>None</td>\n",
       "      <td>NaN</td>\n",
       "    </tr>\n",
       "    <tr>\n",
       "      <td>197</td>\n",
       "      <td>Darya</td>\n",
       "      <td>Bondarenko</td>\n",
       "      <td>None</td>\n",
       "      <td>1</td>\n",
       "      <td>Saint Petersburg</td>\n",
       "      <td>None</td>\n",
       "      <td>None</td>\n",
       "      <td>NaN</td>\n",
       "    </tr>\n",
       "    <tr>\n",
       "      <td>234</td>\n",
       "      <td>Yulia</td>\n",
       "      <td>Gleym</td>\n",
       "      <td>13.5.1985</td>\n",
       "      <td>1</td>\n",
       "      <td>Falls Church</td>\n",
       "      <td>None</td>\n",
       "      <td>None</td>\n",
       "      <td>NaN</td>\n",
       "    </tr>\n",
       "    <tr>\n",
       "      <td>243</td>\n",
       "      <td>Ekaterina</td>\n",
       "      <td>Skobeyko</td>\n",
       "      <td>26.3.1987</td>\n",
       "      <td>1</td>\n",
       "      <td>Saint Petersburg</td>\n",
       "      <td>None</td>\n",
       "      <td>None</td>\n",
       "      <td>NaN</td>\n",
       "    </tr>\n",
       "    <tr>\n",
       "      <td>274</td>\n",
       "      <td>Maria</td>\n",
       "      <td>Tyurina</td>\n",
       "      <td>None</td>\n",
       "      <td>1</td>\n",
       "      <td>Kraków</td>\n",
       "      <td>СПбГУ</td>\n",
       "      <td>Гимназия №196</td>\n",
       "      <td>2002.0</td>\n",
       "    </tr>\n",
       "    <tr>\n",
       "      <td>345</td>\n",
       "      <td>Darya</td>\n",
       "      <td>Frolova</td>\n",
       "      <td>19.10</td>\n",
       "      <td>1</td>\n",
       "      <td>Boston</td>\n",
       "      <td>None</td>\n",
       "      <td>None</td>\n",
       "      <td>NaN</td>\n",
       "    </tr>\n",
       "    <tr>\n",
       "      <td>407</td>\n",
       "      <td>Alexey</td>\n",
       "      <td>Zheleznov</td>\n",
       "      <td>3.8</td>\n",
       "      <td>2</td>\n",
       "      <td>None</td>\n",
       "      <td>None</td>\n",
       "      <td>None</td>\n",
       "      <td>NaN</td>\n",
       "    </tr>\n",
       "    <tr>\n",
       "      <td>467</td>\n",
       "      <td>Igor</td>\n",
       "      <td>Perekopsky</td>\n",
       "      <td>None</td>\n",
       "      <td>2</td>\n",
       "      <td>None</td>\n",
       "      <td>None</td>\n",
       "      <td>None</td>\n",
       "      <td>NaN</td>\n",
       "    </tr>\n",
       "    <tr>\n",
       "      <td>632</td>\n",
       "      <td>Yana</td>\n",
       "      <td>Kalney</td>\n",
       "      <td>21.8.1986</td>\n",
       "      <td>1</td>\n",
       "      <td>Saint Petersburg</td>\n",
       "      <td>None</td>\n",
       "      <td>None</td>\n",
       "      <td>NaN</td>\n",
       "    </tr>\n",
       "    <tr>\n",
       "      <td>952</td>\n",
       "      <td>Darya</td>\n",
       "      <td>Dudina</td>\n",
       "      <td>11.2</td>\n",
       "      <td>1</td>\n",
       "      <td>None</td>\n",
       "      <td>None</td>\n",
       "      <td>None</td>\n",
       "      <td>NaN</td>\n",
       "    </tr>\n",
       "    <tr>\n",
       "      <td>1634</td>\n",
       "      <td>Sergey</td>\n",
       "      <td>Martynov</td>\n",
       "      <td>4.4.1983</td>\n",
       "      <td>2</td>\n",
       "      <td>Moscow</td>\n",
       "      <td>МГУ</td>\n",
       "      <td>Курчатовская школа (Шк. №1189 им. И. В. Курчат...</td>\n",
       "      <td>2000.0</td>\n",
       "    </tr>\n",
       "    <tr>\n",
       "      <td>2050</td>\n",
       "      <td>Katya</td>\n",
       "      <td>Lebedeva</td>\n",
       "      <td>27.4</td>\n",
       "      <td>1</td>\n",
       "      <td>Saint Petersburg</td>\n",
       "      <td>НИУ ВШЭ (СПб)</td>\n",
       "      <td>None</td>\n",
       "      <td>NaN</td>\n",
       "    </tr>\n",
       "    <tr>\n",
       "      <td>2675</td>\n",
       "      <td>Olga</td>\n",
       "      <td>Kotilevskaya</td>\n",
       "      <td>21.2.1989</td>\n",
       "      <td>1</td>\n",
       "      <td>London</td>\n",
       "      <td>None</td>\n",
       "      <td>None</td>\n",
       "      <td>NaN</td>\n",
       "    </tr>\n",
       "    <tr>\n",
       "      <td>2807</td>\n",
       "      <td>Alexey</td>\n",
       "      <td>Dievsky</td>\n",
       "      <td>20.6.1984</td>\n",
       "      <td>2</td>\n",
       "      <td>München</td>\n",
       "      <td>None</td>\n",
       "      <td>None</td>\n",
       "      <td>NaN</td>\n",
       "    </tr>\n",
       "    <tr>\n",
       "      <td>2943</td>\n",
       "      <td>Vasya</td>\n",
       "      <td>Babich</td>\n",
       "      <td>None</td>\n",
       "      <td>2</td>\n",
       "      <td>None</td>\n",
       "      <td>СПбГУ</td>\n",
       "      <td>Физико-техническая школа (ФТШ)</td>\n",
       "      <td>2005.0</td>\n",
       "    </tr>\n",
       "    <tr>\n",
       "      <td>3136</td>\n",
       "      <td>Mikhail</td>\n",
       "      <td>Gavrilovich</td>\n",
       "      <td>18.10.1920</td>\n",
       "      <td>1</td>\n",
       "      <td>The Valley</td>\n",
       "      <td>Oxford</td>\n",
       "      <td>None</td>\n",
       "      <td>NaN</td>\n",
       "    </tr>\n",
       "    <tr>\n",
       "      <td>3420</td>\n",
       "      <td>Georgy</td>\n",
       "      <td>Lobushkin</td>\n",
       "      <td>4.2.1988</td>\n",
       "      <td>2</td>\n",
       "      <td>Moscow</td>\n",
       "      <td>СПбГУ</td>\n",
       "      <td>Лицей Академии права и бизнеса (АПБ)</td>\n",
       "      <td>2005.0</td>\n",
       "    </tr>\n",
       "  </tbody>\n",
       "</table>\n",
       "</div>"
      ],
      "text/plain": [
       "     first_name      last_name       bdate  sex        city.title  \\\n",
       "5          Ilya     Perekopsky       18.11    2            Moscow   \n",
       "7        Alexey    Kobylyansky        None    2            London   \n",
       "10    Alexander      Kuznetsov        None    2  Saint Petersburg   \n",
       "14       Andrey     Gorodetsky   29.6.1982    2            London   \n",
       "17    Alexander       Bespalov  21.10.1982    2  Saint Petersburg   \n",
       "21      Mikhail     Ravdonikas   23.7.1985    2  Saint Petersburg   \n",
       "23       Andrey     Stolbovsky       14.11    2  Saint Petersburg   \n",
       "34      Tatyana      Plutalova         2.6    1  Saint Petersburg   \n",
       "42       Sergey         Markin        20.4    2  Saint Petersburg   \n",
       "45       Sergey     Vinogradov        28.1    2  Saint Petersburg   \n",
       "46       Andrey       Lesokhin   14.7.1984    2  Saint Petersburg   \n",
       "57       Sergey     Vladimirov        None    2              None   \n",
       "59    Anastasia     Zheludkova    2.4.1985    1            Moscow   \n",
       "169        Olga  Chistokletova    5.6.1987    1  Saint Petersburg   \n",
       "197       Darya     Bondarenko        None    1  Saint Petersburg   \n",
       "234       Yulia          Gleym   13.5.1985    1      Falls Church   \n",
       "243   Ekaterina       Skobeyko   26.3.1987    1  Saint Petersburg   \n",
       "274       Maria        Tyurina        None    1            Kraków   \n",
       "345       Darya        Frolova       19.10    1            Boston   \n",
       "407      Alexey      Zheleznov         3.8    2              None   \n",
       "467        Igor     Perekopsky        None    2              None   \n",
       "632        Yana         Kalney   21.8.1986    1  Saint Petersburg   \n",
       "952       Darya         Dudina        11.2    1              None   \n",
       "1634     Sergey       Martynov    4.4.1983    2            Moscow   \n",
       "2050      Katya       Lebedeva        27.4    1  Saint Petersburg   \n",
       "2675       Olga   Kotilevskaya   21.2.1989    1            London   \n",
       "2807     Alexey        Dievsky   20.6.1984    2           München   \n",
       "2943      Vasya         Babich        None    2              None   \n",
       "3136    Mikhail    Gavrilovich  18.10.1920    1        The Valley   \n",
       "3420     Georgy      Lobushkin    4.2.1988    2            Moscow   \n",
       "\n",
       "     universities.0.name                                     schools.0.name  \\\n",
       "5                   None                                               None   \n",
       "7                   None                                               None   \n",
       "10                  None                                               None   \n",
       "14                 СПбГУ                Вторая Санкт-Петербургская Гимназия   \n",
       "17                  None                                               None   \n",
       "21                 СПбГУ                                               None   \n",
       "23                  None                                               None   \n",
       "34                  None                                               None   \n",
       "42                  None                                               None   \n",
       "45                  None                                               None   \n",
       "46                  None                                               None   \n",
       "57                  None                                               None   \n",
       "59                  None                                               None   \n",
       "169                 None                                               None   \n",
       "197                 None                                               None   \n",
       "234                 None                                               None   \n",
       "243                 None                                               None   \n",
       "274                СПбГУ                                      Гимназия №196   \n",
       "345                 None                                               None   \n",
       "407                 None                                               None   \n",
       "467                 None                                               None   \n",
       "632                 None                                               None   \n",
       "952                 None                                               None   \n",
       "1634                 МГУ  Курчатовская школа (Шк. №1189 им. И. В. Курчат...   \n",
       "2050       НИУ ВШЭ (СПб)                                               None   \n",
       "2675                None                                               None   \n",
       "2807                None                                               None   \n",
       "2943               СПбГУ                     Физико-техническая школа (ФТШ)   \n",
       "3136              Oxford                                               None   \n",
       "3420               СПбГУ               Лицей Академии права и бизнеса (АПБ)   \n",
       "\n",
       "      schools.0.year_graduated  \n",
       "5                          NaN  \n",
       "7                          NaN  \n",
       "10                         NaN  \n",
       "14                      1999.0  \n",
       "17                         NaN  \n",
       "21                         NaN  \n",
       "23                         NaN  \n",
       "34                         NaN  \n",
       "42                         NaN  \n",
       "45                         NaN  \n",
       "46                         NaN  \n",
       "57                         NaN  \n",
       "59                         NaN  \n",
       "169                        NaN  \n",
       "197                        NaN  \n",
       "234                        NaN  \n",
       "243                        NaN  \n",
       "274                     2002.0  \n",
       "345                        NaN  \n",
       "407                        NaN  \n",
       "467                        NaN  \n",
       "632                        NaN  \n",
       "952                        NaN  \n",
       "1634                    2000.0  \n",
       "2050                       NaN  \n",
       "2675                       NaN  \n",
       "2807                       NaN  \n",
       "2943                    2005.0  \n",
       "3136                       NaN  \n",
       "3420                    2005.0  "
      ]
     },
     "execution_count": 9,
     "metadata": {},
     "output_type": "execute_result"
    }
   ],
   "source": [
    "fields = ['first_name', 'last_name', 'bdate','sex', \n",
    "         'city.title', \n",
    "         'universities.0.name', \n",
    "         'schools.0.name', 'schools.0.year_graduated']               \n",
    "\n",
    "def transform_user_profile(user_profile):\n",
    "    return [JsonUtils.json_path(user_profile, field, default=None) for field in fields]\n",
    "            \n",
    "index = [int(fp['id']) for fp in friend_profiles]\n",
    "data = [transform_user_profile(fp) for fp in friend_profiles]\n",
    "df = pd.DataFrame(index=index, data=data, columns=fields)\n",
    "\n",
    "df.head(30)"
   ]
  },
  {
   "cell_type": "markdown",
   "metadata": {},
   "source": [
    "Теперь создадим новую колонку *age*, куда запишем возраст пользователя (если он, конечно, задан)"
   ]
  },
  {
   "cell_type": "code",
   "execution_count": 10,
   "metadata": {},
   "outputs": [],
   "source": [
    "import datetime as dt\n",
    "\n",
    "year = dt.datetime.now().year\n",
    "\n",
    "def map_age(x):\n",
    "    if x is not None:\n",
    "        splited = x.split('.')\n",
    "        if len(splited) == 3:\n",
    "            return year - int(splited[2])\n",
    "    return None\n",
    "\n",
    "df['age'] = df.loc[:, 'bdate'].map(map_age)"
   ]
  },
  {
   "cell_type": "markdown",
   "metadata": {},
   "source": [
    "Выведем данные друзей, у которых указан возраст"
   ]
  },
  {
   "cell_type": "code",
   "execution_count": 11,
   "metadata": {},
   "outputs": [
    {
     "data": {
      "text/html": [
       "<div>\n",
       "<style scoped>\n",
       "    .dataframe tbody tr th:only-of-type {\n",
       "        vertical-align: middle;\n",
       "    }\n",
       "\n",
       "    .dataframe tbody tr th {\n",
       "        vertical-align: top;\n",
       "    }\n",
       "\n",
       "    .dataframe thead th {\n",
       "        text-align: right;\n",
       "    }\n",
       "</style>\n",
       "<table border=\"1\" class=\"dataframe\">\n",
       "  <thead>\n",
       "    <tr style=\"text-align: right;\">\n",
       "      <th></th>\n",
       "      <th>first_name</th>\n",
       "      <th>last_name</th>\n",
       "      <th>age</th>\n",
       "    </tr>\n",
       "  </thead>\n",
       "  <tbody>\n",
       "    <tr>\n",
       "      <td>14</td>\n",
       "      <td>Andrey</td>\n",
       "      <td>Gorodetsky</td>\n",
       "      <td>37.0</td>\n",
       "    </tr>\n",
       "    <tr>\n",
       "      <td>17</td>\n",
       "      <td>Alexander</td>\n",
       "      <td>Bespalov</td>\n",
       "      <td>37.0</td>\n",
       "    </tr>\n",
       "    <tr>\n",
       "      <td>21</td>\n",
       "      <td>Mikhail</td>\n",
       "      <td>Ravdonikas</td>\n",
       "      <td>34.0</td>\n",
       "    </tr>\n",
       "    <tr>\n",
       "      <td>46</td>\n",
       "      <td>Andrey</td>\n",
       "      <td>Lesokhin</td>\n",
       "      <td>35.0</td>\n",
       "    </tr>\n",
       "    <tr>\n",
       "      <td>59</td>\n",
       "      <td>Anastasia</td>\n",
       "      <td>Zheludkova</td>\n",
       "      <td>34.0</td>\n",
       "    </tr>\n",
       "    <tr>\n",
       "      <td>169</td>\n",
       "      <td>Olga</td>\n",
       "      <td>Chistokletova</td>\n",
       "      <td>32.0</td>\n",
       "    </tr>\n",
       "    <tr>\n",
       "      <td>234</td>\n",
       "      <td>Yulia</td>\n",
       "      <td>Gleym</td>\n",
       "      <td>34.0</td>\n",
       "    </tr>\n",
       "    <tr>\n",
       "      <td>243</td>\n",
       "      <td>Ekaterina</td>\n",
       "      <td>Skobeyko</td>\n",
       "      <td>32.0</td>\n",
       "    </tr>\n",
       "    <tr>\n",
       "      <td>632</td>\n",
       "      <td>Yana</td>\n",
       "      <td>Kalney</td>\n",
       "      <td>33.0</td>\n",
       "    </tr>\n",
       "    <tr>\n",
       "      <td>1634</td>\n",
       "      <td>Sergey</td>\n",
       "      <td>Martynov</td>\n",
       "      <td>36.0</td>\n",
       "    </tr>\n",
       "  </tbody>\n",
       "</table>\n",
       "</div>"
      ],
      "text/plain": [
       "     first_name      last_name   age\n",
       "14       Andrey     Gorodetsky  37.0\n",
       "17    Alexander       Bespalov  37.0\n",
       "21      Mikhail     Ravdonikas  34.0\n",
       "46       Andrey       Lesokhin  35.0\n",
       "59    Anastasia     Zheludkova  34.0\n",
       "169        Olga  Chistokletova  32.0\n",
       "234       Yulia          Gleym  34.0\n",
       "243   Ekaterina       Skobeyko  32.0\n",
       "632        Yana         Kalney  33.0\n",
       "1634     Sergey       Martynov  36.0"
      ]
     },
     "execution_count": 11,
     "metadata": {},
     "output_type": "execute_result"
    }
   ],
   "source": [
    "has_age = pd.notnull(df['age'])\n",
    "df.loc[has_age, ['first_name', 'last_name', 'age']][:10]"
   ]
  },
  {
   "cell_type": "markdown",
   "metadata": {},
   "source": [
    "Построим гистограмму"
   ]
  },
  {
   "cell_type": "code",
   "execution_count": 12,
   "metadata": {},
   "outputs": [
    {
     "data": {
      "text/plain": [
       "<matplotlib.axes._subplots.AxesSubplot at 0x7fa906661d68>"
      ]
     },
     "execution_count": 12,
     "metadata": {},
     "output_type": "execute_result"
    },
    {
     "data": {
      "image/png": "[encoded data removed]",
      "text/plain": [
       "<matplotlib.figure.Figure at 0x7fa9076378d0>"
      ]
     },
     "metadata": {
      "needs_background": "light"
     },
     "output_type": "display_data"
    }
   ],
   "source": [
    "df['age'].hist()"
   ]
  },
  {
   "cell_type": "markdown",
   "metadata": {},
   "source": [
    "Города проживания друзей"
   ]
  },
  {
   "cell_type": "code",
   "execution_count": 13,
   "metadata": {},
   "outputs": [
    {
     "data": {
      "text/plain": [
       "<matplotlib.axes._subplots.AxesSubplot at 0x7fa90455b898>"
      ]
     },
     "execution_count": 13,
     "metadata": {},
     "output_type": "execute_result"
    },
    {
     "data": {
      "image/png": "[encoded data removed]",
      "text/plain": [
       "<matplotlib.figure.Figure at 0x7fa9045009b0>"
      ]
     },
     "metadata": {
      "needs_background": "light"
     },
     "output_type": "display_data"
    }
   ],
   "source": [
    "df['city.title'] = df['city.title'].astype('category')\n",
    "df['city.title'].value_counts()[:10].plot(kind='bar')"
   ]
  },
  {
   "cell_type": "markdown",
   "metadata": {},
   "source": [
    "Построим граф дружеских связей друзей пользователя"
   ]
  },
  {
   "cell_type": "code",
   "execution_count": 14,
   "metadata": {},
   "outputs": [
    {
     "data": {
      "image/png": "[encoded data removed]",
      "text/plain": [
       "<matplotlib.figure.Figure at 0x7fa90447d9e8>"
      ]
     },
     "metadata": {},
     "output_type": "display_data"
    }
   ],
   "source": [
    "import networkx as nx\n",
    "\n",
    "graph = nx.Graph()\n",
    "for user, friends in user_network.items():    \n",
    "    for friend in friends:\n",
    "        graph.add_edge(user, friend)\n",
    "        \n",
    "graph.remove_node(user_id)        \n",
    "plt.figure(figsize=(10, 7))\n",
    "nx.draw_spring(graph, node_size=8, alpha=0.4)"
   ]
  },
  {
   "cell_type": "markdown",
   "metadata": {},
   "source": [
    "Теперь кластеризуем этот граф и создадим новую колонку в DataFrame с идентификатором кластера"
   ]
  },
  {
   "cell_type": "code",
   "execution_count": 15,
   "metadata": {},
   "outputs": [
    {
     "data": {
      "text/html": [
       "<div>\n",
       "<style scoped>\n",
       "    .dataframe tbody tr th:only-of-type {\n",
       "        vertical-align: middle;\n",
       "    }\n",
       "\n",
       "    .dataframe tbody tr th {\n",
       "        vertical-align: top;\n",
       "    }\n",
       "\n",
       "    .dataframe thead th {\n",
       "        text-align: right;\n",
       "    }\n",
       "</style>\n",
       "<table border=\"1\" class=\"dataframe\">\n",
       "  <thead>\n",
       "    <tr style=\"text-align: right;\">\n",
       "      <th></th>\n",
       "      <th>first_name</th>\n",
       "      <th>last_name</th>\n",
       "      <th>age</th>\n",
       "      <th>universities.0.name</th>\n",
       "      <th>schools.0.name</th>\n",
       "      <th>community</th>\n",
       "    </tr>\n",
       "  </thead>\n",
       "  <tbody>\n",
       "    <tr>\n",
       "      <td>14</td>\n",
       "      <td>Andrey</td>\n",
       "      <td>Gorodetsky</td>\n",
       "      <td>37.0</td>\n",
       "      <td>СПбГУ</td>\n",
       "      <td>Вторая Санкт-Петербургская Гимназия</td>\n",
       "      <td>0</td>\n",
       "    </tr>\n",
       "    <tr>\n",
       "      <td>17</td>\n",
       "      <td>Alexander</td>\n",
       "      <td>Bespalov</td>\n",
       "      <td>37.0</td>\n",
       "      <td>None</td>\n",
       "      <td>None</td>\n",
       "      <td>0</td>\n",
       "    </tr>\n",
       "    <tr>\n",
       "      <td>21</td>\n",
       "      <td>Mikhail</td>\n",
       "      <td>Ravdonikas</td>\n",
       "      <td>34.0</td>\n",
       "      <td>СПбГУ</td>\n",
       "      <td>None</td>\n",
       "      <td>0</td>\n",
       "    </tr>\n",
       "    <tr>\n",
       "      <td>46</td>\n",
       "      <td>Andrey</td>\n",
       "      <td>Lesokhin</td>\n",
       "      <td>35.0</td>\n",
       "      <td>None</td>\n",
       "      <td>None</td>\n",
       "      <td>0</td>\n",
       "    </tr>\n",
       "    <tr>\n",
       "      <td>59</td>\n",
       "      <td>Anastasia</td>\n",
       "      <td>Zheludkova</td>\n",
       "      <td>34.0</td>\n",
       "      <td>None</td>\n",
       "      <td>None</td>\n",
       "      <td>0</td>\n",
       "    </tr>\n",
       "    <tr>\n",
       "      <td>169</td>\n",
       "      <td>Olga</td>\n",
       "      <td>Chistokletova</td>\n",
       "      <td>32.0</td>\n",
       "      <td>None</td>\n",
       "      <td>None</td>\n",
       "      <td>0</td>\n",
       "    </tr>\n",
       "    <tr>\n",
       "      <td>234</td>\n",
       "      <td>Yulia</td>\n",
       "      <td>Gleym</td>\n",
       "      <td>34.0</td>\n",
       "      <td>None</td>\n",
       "      <td>None</td>\n",
       "      <td>0</td>\n",
       "    </tr>\n",
       "    <tr>\n",
       "      <td>243</td>\n",
       "      <td>Ekaterina</td>\n",
       "      <td>Skobeyko</td>\n",
       "      <td>32.0</td>\n",
       "      <td>None</td>\n",
       "      <td>None</td>\n",
       "      <td>0</td>\n",
       "    </tr>\n",
       "    <tr>\n",
       "      <td>632</td>\n",
       "      <td>Yana</td>\n",
       "      <td>Kalney</td>\n",
       "      <td>33.0</td>\n",
       "      <td>None</td>\n",
       "      <td>None</td>\n",
       "      <td>0</td>\n",
       "    </tr>\n",
       "    <tr>\n",
       "      <td>1634</td>\n",
       "      <td>Sergey</td>\n",
       "      <td>Martynov</td>\n",
       "      <td>36.0</td>\n",
       "      <td>МГУ</td>\n",
       "      <td>Курчатовская школа (Шк. №1189 им. И. В. Курчат...</td>\n",
       "      <td>0</td>\n",
       "    </tr>\n",
       "  </tbody>\n",
       "</table>\n",
       "</div>"
      ],
      "text/plain": [
       "     first_name      last_name   age universities.0.name  \\\n",
       "14       Andrey     Gorodetsky  37.0               СПбГУ   \n",
       "17    Alexander       Bespalov  37.0                None   \n",
       "21      Mikhail     Ravdonikas  34.0               СПбГУ   \n",
       "46       Andrey       Lesokhin  35.0                None   \n",
       "59    Anastasia     Zheludkova  34.0                None   \n",
       "169        Olga  Chistokletova  32.0                None   \n",
       "234       Yulia          Gleym  34.0                None   \n",
       "243   Ekaterina       Skobeyko  32.0                None   \n",
       "632        Yana         Kalney  33.0                None   \n",
       "1634     Sergey       Martynov  36.0                 МГУ   \n",
       "\n",
       "                                         schools.0.name  community  \n",
       "14                  Вторая Санкт-Петербургская Гимназия          0  \n",
       "17                                                 None          0  \n",
       "21                                                 None          0  \n",
       "46                                                 None          0  \n",
       "59                                                 None          0  \n",
       "169                                                None          0  \n",
       "234                                                None          0  \n",
       "243                                                None          0  \n",
       "632                                                None          0  \n",
       "1634  Курчатовская школа (Шк. №1189 им. И. В. Курчат...          0  "
      ]
     },
     "execution_count": 15,
     "metadata": {},
     "output_type": "execute_result"
    }
   ],
   "source": [
    "from networkx.algorithms.community.modularity_max import greedy_modularity_communities\n",
    "\n",
    "communities = greedy_modularity_communities(graph)\n",
    "user_to_community = {user_id : community_id for (community_id, community_users) in enumerate(communities) \n",
    "                                            for user_id in community_users}\n",
    "df['community'] = df.index.map(lambda x : user_to_community[x] if x in user_to_community else None)\n",
    "df.loc[has_age, ['first_name', 'last_name', 'age', 'universities.0.name', 'schools.0.name', 'community']][:10]"
   ]
  },
  {
   "cell_type": "markdown",
   "metadata": {},
   "source": [
    "Визуально проверим адекватность кластеризации, раскрасив граф в зависимости от кластера"
   ]
  },
  {
   "cell_type": "code",
   "execution_count": 16,
   "metadata": {},
   "outputs": [
    {
     "data": {
      "image/png": "[encoded data removed]",
      "text/plain": [
       "<matplotlib.figure.Figure at 0x7fa90bbf6048>"
      ]
     },
     "metadata": {},
     "output_type": "display_data"
    }
   ],
   "source": [
    "communities_list = [user_to_community[node] for node in graph.nodes()]\n",
    "plt.figure(figsize=(10, 5))\n",
    "nx.draw_spring(graph, cmap=plt.get_cmap('jet'), node_color=communities_list, node_size=30, alpha=0.4)"
   ]
  },
  {
   "cell_type": "markdown",
   "metadata": {},
   "source": [
    "Тепер пометим одним цветом людей из одного университета"
   ]
  },
  {
   "cell_type": "code",
   "execution_count": 17,
   "metadata": {},
   "outputs": [
    {
     "data": {
      "image/png": "[encoded data removed]",
      "text/plain": [
       "<matplotlib.figure.Figure at 0x7fa8faaebfd0>"
      ]
     },
     "metadata": {},
     "output_type": "display_data"
    }
   ],
   "source": [
    "communities_list = [hash(df.loc[node, ['universities.0.name']][0]) for node in graph.nodes()]\n",
    "plt.figure(figsize=(10, 5))\n",
    "nx.draw_spring(graph, cmap=plt.get_cmap('jet'), node_color=communities_list, node_size=50, alpha=0.8)"
   ]
  },
  {
   "cell_type": "markdown",
   "metadata": {},
   "source": [
    "## Работа с группами"
   ]
  },
  {
   "cell_type": "markdown",
   "metadata": {},
   "source": [
    "Возьмем две группы: <br/>\n",
    "https://vk.com/zclassic - любители классической музыки <br/>\n",
    "https://vk.com/club7057 - любители русского рэпа\n",
    "\n",
    "Посмотрим чем отличаются подписчики этих групп. Для начала по возрасту"
   ]
  },
  {
   "cell_type": "markdown",
   "metadata": {},
   "source": [
    "Закачиваем списки групп"
   ]
  },
  {
   "cell_type": "code",
   "execution_count": 18,
   "metadata": {},
   "outputs": [
    {
     "name": "stderr",
     "output_type": "stream",
     "text": [
      "116921it [00:58, 2005.86it/s]\n",
      "199122it [01:40, 1972.07it/s]\n"
     ]
    }
   ],
   "source": [
    "classic_lovers_ids = [x for x in tqdm(api.get_group_users(13333245))]\n",
    "rap_lovers_ids =  [x for x in tqdm(api.get_group_users(7057))]"
   ]
  },
  {
   "cell_type": "markdown",
   "metadata": {},
   "source": [
    "Закачиваем профили первых 10000 пользователей, нас интересует только даты рождения"
   ]
  },
  {
   "cell_type": "code",
   "execution_count": 19,
   "metadata": {},
   "outputs": [
    {
     "name": "stderr",
     "output_type": "stream",
     "text": [
      "10000it [00:50, 197.97it/s]\n",
      "10000it [00:50, 197.50it/s]\n"
     ]
    }
   ],
   "source": [
    "classic_lovers = [x for x in tqdm(api.get_user_profiles(classic_lovers_ids[:10000], fields=['bdate']))]\n",
    "rap_lovers = [x for x in tqdm(api.get_user_profiles(rap_lovers_ids[:10000], fields=['bdate']))]"
   ]
  },
  {
   "cell_type": "markdown",
   "metadata": {},
   "source": [
    "Преобразуем данные в два DataFrame, в которых будет по два столбца - возраст и месяц рождения."
   ]
  },
  {
   "cell_type": "code",
   "execution_count": 20,
   "metadata": {},
   "outputs": [],
   "source": [
    "def map_month(x):    \n",
    "    if x is not None:\n",
    "        splited = x.split('.')        \n",
    "        if len(splited) > 1:\n",
    "            return int(splited[1])        \n",
    "    return None\n",
    "    \n",
    "def make_data_frame(data):\n",
    "    data = [JsonUtils.json_path(x, 'bdate') for x in data]\n",
    "    data = [(map_age(x), map_month(x)) for x in data if x != None]\n",
    "    data = [(age, month) for age, month in data if (age != None) and (month != None)]    \n",
    "    \n",
    "    data_df = pd.DataFrame(data=data, columns=['age', 'month'])\n",
    "    data_df['month'] = data_df['month'].astype('category')\n",
    "    return data_df\n",
    "    \n",
    "    \n",
    "df_c = make_data_frame(classic_lovers)\n",
    "df_r = make_data_frame(rap_lovers)"
   ]
  },
  {
   "cell_type": "markdown",
   "metadata": {},
   "source": [
    "Любители рэпа ожидаемо моложе:"
   ]
  },
  {
   "cell_type": "code",
   "execution_count": 21,
   "metadata": {},
   "outputs": [
    {
     "data": {
      "text/plain": [
       "(33.84960998439938, 32.03866481223922)"
      ]
     },
     "execution_count": 21,
     "metadata": {},
     "output_type": "execute_result"
    }
   ],
   "source": [
    "df_c['age'].mean(), df_r['age'].mean()"
   ]
  },
  {
   "cell_type": "markdown",
   "metadata": {},
   "source": [
    "Нарисуем гистограммы. Пожилые пользователи VK явно предпочитают классическую музыку: "
   ]
  },
  {
   "cell_type": "code",
   "execution_count": 22,
   "metadata": {},
   "outputs": [
    {
     "data": {
      "text/plain": [
       "[<matplotlib.axis.YTick at 0x7fa8f913e390>,\n",
       " <matplotlib.axis.YTick at 0x7fa8f912b518>,\n",
       " <matplotlib.axis.YTick at 0x7fa8f9137be0>,\n",
       " <matplotlib.axis.YTick at 0x7fa8f902d978>,\n",
       " <matplotlib.axis.YTick at 0x7fa8f902dcf8>,\n",
       " <matplotlib.axis.YTick at 0x7fa8f9036390>,\n",
       " <matplotlib.axis.YTick at 0x7fa8f90369e8>,\n",
       " <matplotlib.axis.YTick at 0x7fa8f903b080>]"
      ]
     },
     "execution_count": 22,
     "metadata": {},
     "output_type": "execute_result"
    },
    {
     "data": {
      "image/png": "[encoded data removed]",
      "text/plain": [
       "<matplotlib.figure.Figure at 0x7fa8f91a8828>"
      ]
     },
     "metadata": {
      "needs_background": "light"
     },
     "output_type": "display_data"
    }
   ],
   "source": [
    "fig, ax = plt.subplots(2,1, figsize=(7,7))\n",
    "\n",
    "df_c['age'].hist(ax=ax[0], normed=True, bins=30)\n",
    "df_r['age'].hist(ax=ax[1], normed=True, bins=30)\n",
    "\n",
    "ax[0].set_title('Любители классики')\n",
    "ax[1].set_title('Любители рэпа')\n",
    "\n",
    "ax[0].set_xlim((0, 60))\n",
    "ax[1].set_xlim((0, 60))\n",
    "ax[0].set_yticks(np.arange(0., 0.15, step=0.02))\n",
    "ax[1].set_yticks(np.arange(0., 0.15, step=0.02))"
   ]
  },
  {
   "cell_type": "code",
   "execution_count": 23,
   "metadata": {},
   "outputs": [
    {
     "data": {
      "text/plain": [
       "(0, 60)"
      ]
     },
     "execution_count": 23,
     "metadata": {},
     "output_type": "execute_result"
    },
    {
     "data": {
      "image/png": "[encoded data removed]",
      "text/plain": [
       "<matplotlib.figure.Figure at 0x7fa92acc7668>"
      ]
     },
     "metadata": {
      "needs_background": "light"
     },
     "output_type": "display_data"
    }
   ],
   "source": [
    "df_c['age'].plot(kind='kde')\n",
    "df_r['age'].plot(kind='kde')\n",
    "plt.legend(['C', 'R'])\n",
    "plt.xlim((0, 60))"
   ]
  },
  {
   "cell_type": "markdown",
   "metadata": {},
   "source": [
    "Может быть астрология работает, и любители русского рэпа родились в каком-то определенном месяце?"
   ]
  },
  {
   "cell_type": "code",
   "execution_count": 24,
   "metadata": {},
   "outputs": [
    {
     "data": {
      "text/plain": [
       "<matplotlib.axes._subplots.AxesSubplot at 0x7fa8f9013710>"
      ]
     },
     "execution_count": 24,
     "metadata": {},
     "output_type": "execute_result"
    },
    {
     "data": {
      "image/png": "[encoded data removed]",
      "text/plain": [
       "<matplotlib.figure.Figure at 0x7fa8f902dc18>"
      ]
     },
     "metadata": {
      "needs_background": "light"
     },
     "output_type": "display_data"
    }
   ],
   "source": [
    "fig, ax = plt.subplots(2,1, figsize=(7,7))\n",
    "ax[0].set_title('Любители классики')\n",
    "ax[1].set_title('Любители рэпа')\n",
    "\n",
    "df_c['month'].value_counts(normalize=True, sort=False).plot(kind='bar', ax=ax[0])\n",
    "df_r['month'].value_counts(normalize=True, sort=False).plot(kind='bar', ax=ax[1])"
   ]
  },
  {
   "cell_type": "markdown",
   "metadata": {},
   "source": [
    "Нет, ничего определенного без статистических тестов сказать нелья."
   ]
  },
  {
   "cell_type": "markdown",
   "metadata": {},
   "source": [
    "Загрузим паблик для любителей Санкт-Петербурга (https://vk.com/public45361937), и посмотрим на города проживания подписчиков"
   ]
  },
  {
   "cell_type": "code",
   "execution_count": 25,
   "metadata": {},
   "outputs": [
    {
     "name": "stderr",
     "output_type": "stream",
     "text": [
      "115322it [00:58, 1982.97it/s]\n"
     ]
    }
   ],
   "source": [
    "spb_group_ids = [x for x in tqdm(api.get_group_users(45361937))]"
   ]
  },
  {
   "cell_type": "markdown",
   "metadata": {},
   "source": [
    "Нас интересует город проживания и родной город"
   ]
  },
  {
   "cell_type": "code",
   "execution_count": 26,
   "metadata": {},
   "outputs": [
    {
     "name": "stderr",
     "output_type": "stream",
     "text": [
      "20000it [01:40, 199.41it/s]\n"
     ]
    }
   ],
   "source": [
    "spb_group = [x for x in tqdm(api.get_user_profiles(spb_group_ids[:20000], fields=['bdate', 'city', 'home_town']))]"
   ]
  },
  {
   "cell_type": "markdown",
   "metadata": {},
   "source": [
    "Получаем DataFrame. Увы, в *home_town* полная помойка"
   ]
  },
  {
   "cell_type": "code",
   "execution_count": 27,
   "metadata": {},
   "outputs": [],
   "source": [
    "data = [(JsonUtils.json_path(x, 'city.title', default=None), \n",
    "         JsonUtils.json_path(x, 'home_town', default=None)) for x in spb_group]"
   ]
  },
  {
   "cell_type": "code",
   "execution_count": 28,
   "metadata": {},
   "outputs": [
    {
     "data": {
      "text/html": [
       "<div>\n",
       "<style scoped>\n",
       "    .dataframe tbody tr th:only-of-type {\n",
       "        vertical-align: middle;\n",
       "    }\n",
       "\n",
       "    .dataframe tbody tr th {\n",
       "        vertical-align: top;\n",
       "    }\n",
       "\n",
       "    .dataframe thead th {\n",
       "        text-align: right;\n",
       "    }\n",
       "</style>\n",
       "<table border=\"1\" class=\"dataframe\">\n",
       "  <thead>\n",
       "    <tr style=\"text-align: right;\">\n",
       "      <th></th>\n",
       "      <th>city</th>\n",
       "      <th>home_city</th>\n",
       "    </tr>\n",
       "  </thead>\n",
       "  <tbody>\n",
       "    <tr>\n",
       "      <td>0</td>\n",
       "      <td>Saint Petersburg</td>\n",
       "      <td>None</td>\n",
       "    </tr>\n",
       "    <tr>\n",
       "      <td>1</td>\n",
       "      <td>Saint Petersburg</td>\n",
       "      <td>None</td>\n",
       "    </tr>\n",
       "    <tr>\n",
       "      <td>2</td>\n",
       "      <td>Saint Petersburg</td>\n",
       "      <td>None</td>\n",
       "    </tr>\n",
       "    <tr>\n",
       "      <td>3</td>\n",
       "      <td>Saint Petersburg</td>\n",
       "      <td>None</td>\n",
       "    </tr>\n",
       "    <tr>\n",
       "      <td>4</td>\n",
       "      <td>Saint Petersburg</td>\n",
       "      <td>None</td>\n",
       "    </tr>\n",
       "    <tr>\n",
       "      <td>5</td>\n",
       "      <td>NaN</td>\n",
       "      <td>None</td>\n",
       "    </tr>\n",
       "    <tr>\n",
       "      <td>6</td>\n",
       "      <td>Saint Petersburg</td>\n",
       "      <td>None</td>\n",
       "    </tr>\n",
       "    <tr>\n",
       "      <td>7</td>\n",
       "      <td>Saint Petersburg</td>\n",
       "      <td>None</td>\n",
       "    </tr>\n",
       "    <tr>\n",
       "      <td>8</td>\n",
       "      <td>Saint Petersburg</td>\n",
       "      <td>None</td>\n",
       "    </tr>\n",
       "    <tr>\n",
       "      <td>9</td>\n",
       "      <td>Saint Petersburg</td>\n",
       "      <td>None</td>\n",
       "    </tr>\n",
       "  </tbody>\n",
       "</table>\n",
       "</div>"
      ],
      "text/plain": [
       "               city home_city\n",
       "0  Saint Petersburg      None\n",
       "1  Saint Petersburg      None\n",
       "2  Saint Petersburg      None\n",
       "3  Saint Petersburg      None\n",
       "4  Saint Petersburg      None\n",
       "5               NaN      None\n",
       "6  Saint Petersburg      None\n",
       "7  Saint Petersburg      None\n",
       "8  Saint Petersburg      None\n",
       "9  Saint Petersburg      None"
      ]
     },
     "execution_count": 28,
     "metadata": {},
     "output_type": "execute_result"
    }
   ],
   "source": [
    "df_spb = pd.DataFrame(data=data, columns = ['city', 'home_city'])\n",
    "df_spb['city'] = df_spb['city'].astype('category')\n",
    "df_spb[:10]"
   ]
  },
  {
   "cell_type": "markdown",
   "metadata": {},
   "source": [
    "Можно попробовать хоть как-то привести это дело к порядку"
   ]
  },
  {
   "cell_type": "code",
   "execution_count": 29,
   "metadata": {},
   "outputs": [
    {
     "data": {
      "text/html": [
       "<div>\n",
       "<style scoped>\n",
       "    .dataframe tbody tr th:only-of-type {\n",
       "        vertical-align: middle;\n",
       "    }\n",
       "\n",
       "    .dataframe tbody tr th {\n",
       "        vertical-align: top;\n",
       "    }\n",
       "\n",
       "    .dataframe thead th {\n",
       "        text-align: right;\n",
       "    }\n",
       "</style>\n",
       "<table border=\"1\" class=\"dataframe\">\n",
       "  <thead>\n",
       "    <tr style=\"text-align: right;\">\n",
       "      <th></th>\n",
       "      <th>city</th>\n",
       "      <th>home_city</th>\n",
       "    </tr>\n",
       "  </thead>\n",
       "  <tbody>\n",
       "    <tr>\n",
       "      <td>19</td>\n",
       "      <td>Saint Petersburg</td>\n",
       "      <td>Санкт-Петербург</td>\n",
       "    </tr>\n",
       "    <tr>\n",
       "      <td>24</td>\n",
       "      <td>Saint Petersburg</td>\n",
       "      <td>МайамиБург</td>\n",
       "    </tr>\n",
       "    <tr>\n",
       "      <td>36</td>\n",
       "      <td>Saratov</td>\n",
       "      <td>Нижнекамск</td>\n",
       "    </tr>\n",
       "    <tr>\n",
       "      <td>39</td>\n",
       "      <td>Saint Petersburg</td>\n",
       "      <td>Ленинград</td>\n",
       "    </tr>\n",
       "    <tr>\n",
       "      <td>41</td>\n",
       "      <td>Saint Petersburg</td>\n",
       "      <td>Ленинград</td>\n",
       "    </tr>\n",
       "    <tr>\n",
       "      <td>44</td>\n",
       "      <td>Moscow</td>\n",
       "      <td>Санкт-Петербург</td>\n",
       "    </tr>\n",
       "    <tr>\n",
       "      <td>48</td>\n",
       "      <td>Saint Petersburg</td>\n",
       "      <td>Санкт-Петербург</td>\n",
       "    </tr>\n",
       "    <tr>\n",
       "      <td>54</td>\n",
       "      <td>Saint Petersburg</td>\n",
       "      <td>Санкт-Петербург</td>\n",
       "    </tr>\n",
       "    <tr>\n",
       "      <td>60</td>\n",
       "      <td>Saint Petersburg</td>\n",
       "      <td>Санкд-Петербург</td>\n",
       "    </tr>\n",
       "    <tr>\n",
       "      <td>63</td>\n",
       "      <td>Saint Petersburg</td>\n",
       "      <td>Санкт-Петербург</td>\n",
       "    </tr>\n",
       "  </tbody>\n",
       "</table>\n",
       "</div>"
      ],
      "text/plain": [
       "                city        home_city\n",
       "19  Saint Petersburg  Санкт-Петербург\n",
       "24  Saint Petersburg       МайамиБург\n",
       "36           Saratov       Нижнекамск\n",
       "39  Saint Petersburg        Ленинград\n",
       "41  Saint Petersburg        Ленинград\n",
       "44            Moscow  Санкт-Петербург\n",
       "48  Saint Petersburg  Санкт-Петербург\n",
       "54  Saint Petersburg  Санкт-Петербург\n",
       "60  Saint Petersburg  Санкд-Петербург\n",
       "63  Saint Petersburg  Санкт-Петербург"
      ]
     },
     "execution_count": 29,
     "metadata": {},
     "output_type": "execute_result"
    }
   ],
   "source": [
    "has_home_city = df_spb['home_city'].map(lambda x: x is not None and len(x) > 1)\n",
    "df_spb['home_city'] = df_spb.loc[has_home_city, 'home_city'].map(lambda x: x[0].upper() + x[1:])\n",
    "df_spb.loc[has_home_city, :][:10]"
   ]
  },
  {
   "cell_type": "markdown",
   "metadata": {},
   "source": [
    "Наконец посмотрим откуда подписчики"
   ]
  },
  {
   "cell_type": "code",
   "execution_count": 30,
   "metadata": {},
   "outputs": [
    {
     "data": {
      "text/plain": [
       "<matplotlib.axes._subplots.AxesSubplot at 0x7fa8f44ba940>"
      ]
     },
     "execution_count": 30,
     "metadata": {},
     "output_type": "execute_result"
    },
    {
     "data": {
      "image/png": "[encoded data removed]",
      "text/plain": [
       "<matplotlib.figure.Figure at 0x7fa8f461d748>"
      ]
     },
     "metadata": {},
     "output_type": "display_data"
    }
   ],
   "source": [
    "plt.figure(figsize=(12, 12))\n",
    "df_spb['city'].value_counts(normalize=False, sort=True)[:15].plot(kind='pie')"
   ]
  },
  {
   "cell_type": "code",
   "execution_count": null,
   "metadata": {},
   "outputs": [],
   "source": []
  }
 ],
 "metadata": {
  "kernelspec": {
   "display_name": "Python 3",
   "language": "python",
   "name": "python3"
  },
  "language_info": {
   "codemirror_mode": {
    "name": "ipython",
    "version": 3
   },
   "file_extension": ".py",
   "mimetype": "text/x-python",
   "name": "python",
   "nbconvert_exporter": "python",
   "pygments_lexer": "ipython3",
   "version": "3.6.9"
  }
 },
 "nbformat": 4,
 "nbformat_minor": 4
}
