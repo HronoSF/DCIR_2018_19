{
 "cells": [
  {
   "cell_type": "code",
   "execution_count": 1,
   "metadata": {},
   "outputs": [
    {
     "name": "stderr",
     "output_type": "stream",
     "text": [
      "Using TensorFlow backend.\n"
     ]
    }
   ],
   "source": [
    "import jsonlines\n",
    "import pandas as pd\n",
    "import regex as re\n",
    "import numpy as np\n",
    "import matplotlib.pyplot as plt\n",
    "import csv\n",
    "\n",
    "import pymorphy2\n",
    "import nltk\n",
    "from nltk.corpus import stopwords\n",
    "\n",
    "import tensorflow as tf\n",
    "from tensorflow import keras\n",
    "from tensorflow.python.client import device_lib\n",
    "from keras.preprocessing.sequence import pad_sequences"
   ]
  },
  {
   "cell_type": "markdown",
   "metadata": {},
   "source": [
    "**Перегон датасета jsonl ---> csv:**"
   ]
  },
  {
   "cell_type": "code",
   "execution_count": null,
   "metadata": {},
   "outputs": [],
   "source": [
    "morph = pymorphy2.MorphAnalyzer()"
   ]
  },
  {
   "cell_type": "code",
   "execution_count": null,
   "metadata": {
    "scrolled": true
   },
   "outputs": [],
   "source": [
    "with open('data.csv', mode='w', encoding=\"utf-8\") as csv_file:\n",
    "    writer = csv.writer(csv_file, delimiter=',', quotechar='\"', quoting=csv.QUOTE_MINIMAL)\n",
    "    with jsonlines.open(\"data.jsonl\") as json:\n",
    "        z=0\n",
    "        i=1\n",
    "        for item in json:\n",
    "            word_map={}\n",
    "            sentense_to_tag={}\n",
    "            word_to_tag={}\n",
    "            j=1\n",
    "            list=[]\n",
    "            for annotation in item['annotations']:\n",
    "                word_map['word_'+ str(j)] = item['content'][int(annotation['span']['start']):int(annotation['span']['end'])]\n",
    "                word_to_tag[annotation['text']] = annotation['type']\n",
    "                j+=1\n",
    "            sentense_to_tag['Sentence ' + str(i)] = word_to_tag\n",
    "\n",
    "            item['content'] = re.sub(\"\\s\\s+\", ' ', re.sub('[0-9]', ' ', re.sub('[,.—?!)(«»]', '', item ['content'])))\n",
    "\n",
    "            for mapped, word in word_map.items():\n",
    "                item['content'] = item['content'].replace(word, mapped, 1)\n",
    "\n",
    "            content_to_list = item['content'].split(\" \")\n",
    "            words =  [ word_map.get(x) if word_map.get(x)!=None else x for x in content_to_list]\n",
    "\n",
    "            content = ' '.join(words)\n",
    "            for word in words:\n",
    "                tag = sentense_to_tag.get('Sentence '+ str(i)).get(word, 'O')\n",
    "                writer.writerow(['Sentence:' + str(i), word, morph.parse(word)[0].tag.POS, tag])\n",
    "            i+=1"
   ]
  },
  {
   "cell_type": "markdown",
   "metadata": {},
   "source": [
    "**Читаем созданный csv пандасом:**"
   ]
  },
  {
   "cell_type": "code",
   "execution_count": 27,
   "metadata": {
    "tags": []
   },
   "outputs": [
    {
     "data": {
      "text/html": [
       "<div>\n",
       "<style scoped>\n",
       "    .dataframe tbody tr th:only-of-type {\n",
       "        vertical-align: middle;\n",
       "    }\n",
       "\n",
       "    .dataframe tbody tr th {\n",
       "        vertical-align: top;\n",
       "    }\n",
       "\n",
       "    .dataframe thead th {\n",
       "        text-align: right;\n",
       "    }\n",
       "</style>\n",
       "<table border=\"1\" class=\"dataframe\">\n",
       "  <thead>\n",
       "    <tr style=\"text-align: right;\">\n",
       "      <th></th>\n",
       "      <th>Sentence</th>\n",
       "      <th>Word</th>\n",
       "      <th>Pos</th>\n",
       "      <th>Tag</th>\n",
       "    </tr>\n",
       "  </thead>\n",
       "  <tbody>\n",
       "    <tr>\n",
       "      <th>0</th>\n",
       "      <td>Sentence:1</td>\n",
       "      <td>Вице-премьер</td>\n",
       "      <td>NOUN</td>\n",
       "      <td>O</td>\n",
       "    </tr>\n",
       "    <tr>\n",
       "      <th>1</th>\n",
       "      <td>Sentence:1</td>\n",
       "      <td>по</td>\n",
       "      <td>PREP</td>\n",
       "      <td>O</td>\n",
       "    </tr>\n",
       "    <tr>\n",
       "      <th>2</th>\n",
       "      <td>Sentence:1</td>\n",
       "      <td>социальным</td>\n",
       "      <td>ADJF</td>\n",
       "      <td>O</td>\n",
       "    </tr>\n",
       "    <tr>\n",
       "      <th>3</th>\n",
       "      <td>Sentence:1</td>\n",
       "      <td>вопросам</td>\n",
       "      <td>NOUN</td>\n",
       "      <td>O</td>\n",
       "    </tr>\n",
       "    <tr>\n",
       "      <th>4</th>\n",
       "      <td>Sentence:1</td>\n",
       "      <td>Татьяна Голикова</td>\n",
       "      <td>NOUN</td>\n",
       "      <td>PER</td>\n",
       "    </tr>\n",
       "    <tr>\n",
       "      <th>5</th>\n",
       "      <td>Sentence:1</td>\n",
       "      <td>рассказала</td>\n",
       "      <td>VERB</td>\n",
       "      <td>O</td>\n",
       "    </tr>\n",
       "    <tr>\n",
       "      <th>6</th>\n",
       "      <td>Sentence:1</td>\n",
       "      <td>в</td>\n",
       "      <td>PREP</td>\n",
       "      <td>O</td>\n",
       "    </tr>\n",
       "    <tr>\n",
       "      <th>7</th>\n",
       "      <td>Sentence:1</td>\n",
       "      <td>каких</td>\n",
       "      <td>ADJF</td>\n",
       "      <td>O</td>\n",
       "    </tr>\n",
       "    <tr>\n",
       "      <th>8</th>\n",
       "      <td>Sentence:1</td>\n",
       "      <td>регионах</td>\n",
       "      <td>NOUN</td>\n",
       "      <td>O</td>\n",
       "    </tr>\n",
       "    <tr>\n",
       "      <th>9</th>\n",
       "      <td>Sentence:1</td>\n",
       "      <td>России</td>\n",
       "      <td>NOUN</td>\n",
       "      <td>LOC</td>\n",
       "    </tr>\n",
       "  </tbody>\n",
       "</table>\n",
       "</div>"
      ],
      "text/plain": [
       "     Sentence              Word   Pos  Tag\n",
       "0  Sentence:1      Вице-премьер  NOUN    O\n",
       "1  Sentence:1                по  PREP    O\n",
       "2  Sentence:1        социальным  ADJF    O\n",
       "3  Sentence:1          вопросам  NOUN    O\n",
       "4  Sentence:1  Татьяна Голикова  NOUN  PER\n",
       "5  Sentence:1        рассказала  VERB    O\n",
       "6  Sentence:1                 в  PREP    O\n",
       "7  Sentence:1             каких  ADJF    O\n",
       "8  Sentence:1          регионах  NOUN    O\n",
       "9  Sentence:1            России  NOUN  LOC"
      ]
     },
     "execution_count": 27,
     "metadata": {},
     "output_type": "execute_result"
    }
   ],
   "source": [
    "df = pd.read_csv(\"data.csv\", header=None, names=['Sentence','Word','Pos','Tag'], nrows=1_000_000)\n",
    "df.head(n=10)"
   ]
  },
  {
   "cell_type": "code",
   "execution_count": 28,
   "metadata": {},
   "outputs": [
    {
     "name": "stdout",
     "output_type": "stream",
     "text": [
      "Кол-во предложений в датасете: 5956\n",
      "Кол-во слов в датасете: 113411\n",
      "Теги: ['ORG', 'PER', 'LOC', 'O']\n"
     ]
    }
   ],
   "source": [
    "words = [*set(df['Word'].values)]\n",
    "tags = [*set(df['Tag'].values)]\n",
    "n_words = len(words)\n",
    "n_tags = len(tags)\n",
    "\n",
    "print(f'Кол-во предложений в датасете: {len(df.groupby([\"Sentence\"]))}')\n",
    "print(f'Кол-во слов в датасете: {n_words}')\n",
    "print(f'Теги: {tags}')"
   ]
  },
  {
   "cell_type": "code",
   "execution_count": 29,
   "metadata": {},
   "outputs": [],
   "source": [
    "zip_function = lambda s: [(w, p, t) for w, p, t in zip(s[\"Word\"].values.tolist(),\n",
    "                                                           s[\"Pos\"].values.tolist(),\n",
    "                                                           s[\"Tag\"].values.tolist())]"
   ]
  },
  {
   "cell_type": "code",
   "execution_count": 30,
   "metadata": {},
   "outputs": [],
   "source": [
    "grouped_df = df.groupby(\"Sentence\").apply(zip_function)"
   ]
  },
  {
   "cell_type": "code",
   "execution_count": 31,
   "metadata": {},
   "outputs": [
    {
     "data": {
      "text/plain": [
       "[('Австрийские', 'ADJF', 'O'),\n",
       " ('правоохранительные', 'ADJF', 'O'),\n",
       " ('органы', 'NOUN', 'O'),\n",
       " ('не', 'PRCL', 'O'),\n",
       " ('представили', 'VERB', 'O'),\n",
       " ('доказательств', 'NOUN', 'O'),\n",
       " ('нарушения', 'NOUN', 'O'),\n",
       " ('российскими', 'ADJF', 'O'),\n",
       " ('биатлонистами', 'NOUN', 'O'),\n",
       " ('антидопинговых', 'ADJF', 'O'),\n",
       " ('правил', 'NOUN', 'O'),\n",
       " ('Об', 'PREP', 'O'),\n",
       " ('этом', 'NPRO', 'O'),\n",
       " ('сообщил', 'VERB', 'O'),\n",
       " ('посол', 'NOUN', 'O'),\n",
       " ('России', 'NOUN', 'LOC'),\n",
       " ('в', 'PREP', 'O'),\n",
       " ('Вене', 'NOUN', 'LOC'),\n",
       " ('Дмитрий Любинский', 'ADJF', 'PER'),\n",
       " ('по', 'PREP', 'O'),\n",
       " ('итогам', 'NOUN', 'O'),\n",
       " ('встречи', 'NOUN', 'O'),\n",
       " ('уполномоченного', 'ADJF', 'O'),\n",
       " ('адвоката', 'NOUN', 'O'),\n",
       " ('дипмиссии', 'NOUN', 'O'),\n",
       " ('с', 'PREP', 'O'),\n",
       " ('представителями', 'NOUN', 'O'),\n",
       " ('прокуратуры', 'NOUN', 'O'),\n",
       " ('страны', 'NOUN', 'O'),\n",
       " ('передает', 'VERB', 'O'),\n",
       " ('ТАСС', 'NOUN', 'ORG'),\n",
       " ('Действует', 'VERB', 'O'),\n",
       " ('презумпция', 'NOUN', 'O'),\n",
       " ('невиновности', 'NOUN', 'O'),\n",
       " ('Каких-либо', 'ADJF', 'O'),\n",
       " ('ограничений', 'NOUN', 'O'),\n",
       " ('свободы', 'NOUN', 'O'),\n",
       " ('передвижения', 'NOUN', 'O'),\n",
       " ('для', 'PREP', 'O'),\n",
       " ('команды', 'NOUN', 'O'),\n",
       " ('нет', 'PRED', 'O'),\n",
       " ('добавили', 'VERB', 'O'),\n",
       " ('в', 'PREP', 'O'),\n",
       " ('посольстве', 'NOUN', 'O'),\n",
       " ('Международный', 'ADJF', 'O'),\n",
       " ('союз', 'NOUN', 'O'),\n",
       " ('биатлонистов', 'NOUN', 'O'),\n",
       " ('IBU', nan, 'O'),\n",
       " ('также', 'PRCL', 'O'),\n",
       " ('не', 'PRCL', 'O'),\n",
       " ('будет', 'VERB', 'O'),\n",
       " ('применять', 'INFN', 'O'),\n",
       " ('санкции', 'NOUN', 'O'),\n",
       " ('к', 'PREP', 'O'),\n",
       " ('российским', 'ADJF', 'O'),\n",
       " ('биатлонистам', 'NOUN', 'O'),\n",
       " ('Все', 'PRCL', 'O'),\n",
       " ('они', 'NPRO', 'O'),\n",
       " ('продолжат', 'VERB', 'O'),\n",
       " ('выступление', 'NOUN', 'O'),\n",
       " ('на', 'PREP', 'O'),\n",
       " ('Кубке', 'NOUN', 'O'),\n",
       " ('мира', 'NOUN', 'O'),\n",
       " ('Полиция', 'NOUN', 'O'),\n",
       " ('нагрянула', 'VERB', 'O'),\n",
       " ('в', 'PREP', 'O'),\n",
       " ('отель', 'NOUN', 'O'),\n",
       " ('сборной', 'NOUN', 'O'),\n",
       " ('России', 'NOUN', 'LOC'),\n",
       " ('в', 'PREP', 'O'),\n",
       " ('Хохфильцене', 'NOUN', 'LOC'),\n",
       " ('вечером', 'ADVB', 'O'),\n",
       " ('декабря', 'NOUN', 'O'),\n",
       " ('Как', 'CONJ', 'O'),\n",
       " ('написал', 'VERB', 'O'),\n",
       " ('биатлонист', 'NOUN', 'O'),\n",
       " ('Александр Логинов', 'NOUN', 'PER'),\n",
       " ('их', 'NPRO', 'O'),\n",
       " ('считают', 'VERB', 'O'),\n",
       " ('виновными', 'ADJF', 'O'),\n",
       " ('в', 'PREP', 'O'),\n",
       " ('махинациях', 'NOUN', 'O'),\n",
       " ('с', 'PREP', 'O'),\n",
       " ('переливанием', 'NOUN', 'O'),\n",
       " ('крови', 'NOUN', 'O'),\n",
       " ('Биатлонисту', 'NOUN', 'O'),\n",
       " ('Антону Шипулину', 'NOUN', 'PER'),\n",
       " ('также', 'PRCL', 'O'),\n",
       " ('попавшему', 'PRTF', 'O'),\n",
       " ('в', 'PREP', 'O'),\n",
       " ('список', 'NOUN', 'O'),\n",
       " ('полиция', 'NOUN', 'O'),\n",
       " ('нанесла', 'VERB', 'O'),\n",
       " ('отдельный', 'ADJF', 'O'),\n",
       " ('визит:', nan, 'O'),\n",
       " ('сейчас', 'ADVB', 'O'),\n",
       " ('он', 'NPRO', 'O'),\n",
       " ('тренируется', 'VERB', 'O'),\n",
       " ('отдельно', 'ADVB', 'O'),\n",
       " ('в', 'PREP', 'O'),\n",
       " ('австрийском', 'ADJF', 'O'),\n",
       " ('Обертиллахе', 'NOUN', 'LOC'),\n",
       " ('Обвинения', 'NOUN', 'O'),\n",
       " ('спортсмен', 'NOUN', 'O'),\n",
       " ('назвал', 'VERB', 'O'),\n",
       " ('бредом', 'NOUN', 'O'),\n",
       " ('а', 'CONJ', 'O'),\n",
       " ('также', 'PRCL', 'O'),\n",
       " ('указал', 'VERB', 'O'),\n",
       " ('на', 'PREP', 'O'),\n",
       " ('охоту', 'NOUN', 'O'),\n",
       " ('на', 'PREP', 'O'),\n",
       " ('ведьм', 'NOUN', 'O'),\n",
       " ('в', 'PREP', 'O'),\n",
       " ('мировом', 'ADJF', 'O'),\n",
       " ('биатлоне', 'NOUN', 'O'),\n",
       " ('В', 'PREP', 'O'),\n",
       " ('Австрии', 'NOUN', 'LOC'),\n",
       " ('прием', 'NOUN', 'O'),\n",
       " ('допинга', 'NOUN', 'O'),\n",
       " ('уголовное', 'ADJF', 'O'),\n",
       " ('преступление', 'NOUN', 'O'),\n",
       " ('Максимальное', 'ADJF', 'O'),\n",
       " ('наказание', 'NOUN', 'O'),\n",
       " ('за', 'PREP', 'O'),\n",
       " ('его', 'NPRO', 'O'),\n",
       " ('употребление', 'NOUN', 'O'),\n",
       " ('три', 'NUMR', 'O'),\n",
       " ('года', 'NOUN', 'O'),\n",
       " ('тюрьмы', 'NOUN', 'O')]"
      ]
     },
     "execution_count": 31,
     "metadata": {},
     "output_type": "execute_result"
    }
   ],
   "source": [
    "grouped_df['Sentence:2']"
   ]
  },
  {
   "cell_type": "code",
   "execution_count": 32,
   "metadata": {},
   "outputs": [
    {
     "data": {
      "image/png": "[encoded data removed]",
      "text/plain": [
       "<Figure size 432x288 with 1 Axes>"
      ]
     },
     "metadata": {
      "needs_background": "light"
     },
     "output_type": "display_data"
    }
   ],
   "source": [
    "plt.hist([len(s) for s in grouped_df], bins=70)\n",
    "plt.title('Частотное распределение длин предложений')\n",
    "plt.xlabel('Длина предложения в символах')\n",
    "plt.ylabel('Как часто встречали эту длину')\n",
    "plt.show()"
   ]
  },
  {
   "cell_type": "code",
   "execution_count": 33,
   "metadata": {},
   "outputs": [],
   "source": [
    "BATCH_SIZE = 32 # кол-во примеров используемых на каждой итерации\n",
    "EPOCHS = 5\n",
    "MAX_LEN = 75 # максимальная длина предложения\n",
    "EMBEDDING = 20 # размерность ембеддинг вектора"
   ]
  },
  {
   "cell_type": "markdown",
   "metadata": {},
   "source": [
    "**Процессим текст:**\n",
    "1) замаппим слова на id.\n",
    "\n",
    "2) замаппим теги на id.\n",
    "\n",
    "3) для использования LSTM все предложения должны быть одинаковой длины. Юзаем для этого keras.preprocessing.sequence: те, что длиннее - усекаем; те, что короче - дополняем"
   ]
  },
  {
   "cell_type": "code",
   "execution_count": 34,
   "metadata": {},
   "outputs": [],
   "source": [
    "word2id = {w: i + 2 for i, w in enumerate(words)}\n",
    "word2id[\"UNK\"] = 1\n",
    "word2id[\"PAD\"] = 0\n",
    "id2word = {i: w for w, i in word2id.items()}\n",
    "\n",
    "tag2id = {t: i+1 for i, t in enumerate(tags)}\n",
    "tag2id[\"PAD\"] = 0\n",
    "id2tag = {i: w for w, i in tag2id.items()}"
   ]
  },
  {
   "cell_type": "code",
   "execution_count": 35,
   "metadata": {},
   "outputs": [
    {
     "name": "stdout",
     "output_type": "stream",
     "text": [
      "Россия <-> 59517\n",
      "ORG <-> 1\n"
     ]
    }
   ],
   "source": [
    "print(\"Россия <-> {}\".format(word2id[\"Россия\"]))\n",
    "print(\"ORG <-> {}\".format(tag2id[\"ORG\"]))"
   ]
  },
  {
   "cell_type": "code",
   "execution_count": 36,
   "metadata": {},
   "outputs": [
    {
     "name": "stdout",
     "output_type": "stream",
     "text": [
      "[41415, 69841, 132, 96300, 52651, 69117, 13268, 47387, 103599, 25521, 52293, 20014, 40820, 28726, 69805, 110855, 93885, 112229, 77793, 14600, 53488, 100845, 51303, 80790, 3911, 27327, 101352, 108599, 13268, 74031, 31604, 58623, 83613, 59697, 41950, 77829, 13268, 62448, 41415, 85153, 74544, 91068, 109152, 34169, 13268, 25521, 66234, 83613, 7320, 77678, 16549, 22559, 72584, 27138, 44677, 5625, 74544, 28726, 69805, 88407, 76331, 46543, 86120, 1646, 4792, 47221, 1085, 27138, 77793, 41276, 43874, 13268, 97433, 69805, 110855, 61414, 55786, 65945, 66157, 19304, 30819, 82669, 64419, 112420, 78580]\n",
      " <=============> \n",
      " ['Вице-премьер', 'по', 'социальным', 'вопросам', 'Татьяна Голикова', 'рассказала', 'в', 'каких', 'регионах', 'России', 'зафиксирована', 'наиболее', 'высокая', 'смертность', 'от', 'рака', 'сообщает', 'РИА Новости', 'По', 'словам', 'Голиковой', 'чаще', 'всего', 'онкологические', 'заболевания', 'становились', 'причиной', 'смерти', 'в', 'Псковской', 'Тверской', 'Тульской', 'и', 'Орловской областях', 'а', 'также', 'в', 'Севастополе', 'Вице-премьер', 'напомнила', 'что', 'главные', 'факторы', 'смертности', 'в', 'России', 'рак', 'и', 'болезни', 'системы', 'кровообращения', 'В', 'начале', 'года', 'стало', 'известно', 'что', 'смертность', 'от', 'онкологических', 'заболеваний', 'среди', 'россиян', 'снизилась', 'впервые', 'за', 'три', 'года', 'По', 'данным', 'Росстата', 'в', 'году', 'от', 'рака', 'умерли', 'тысяч', 'человек', 'Это', 'на', 'процента', 'меньше', 'чем', 'годом', 'ранее'] \n",
      "\n",
      "[4, 4, 4, 4, 2, 4, 4, 4, 4, 3, 4, 4, 4, 4, 4, 4, 4, 1, 4, 4, 2, 4, 4, 4, 4, 4, 4, 4, 4, 3, 3, 3, 4, 3, 4, 4, 4, 3, 4, 4, 4, 4, 4, 4, 4, 3, 4, 4, 4, 4, 4, 4, 4, 4, 4, 4, 4, 4, 4, 4, 4, 4, 4, 4, 4, 4, 4, 4, 4, 4, 1, 4, 4, 4, 4, 4, 4, 4, 4, 4, 4, 4, 4, 4, 4]\n",
      " <=============> \n",
      " ['O', 'O', 'O', 'O', 'PER', 'O', 'O', 'O', 'O', 'LOC', 'O', 'O', 'O', 'O', 'O', 'O', 'O', 'ORG', 'O', 'O', 'PER', 'O', 'O', 'O', 'O', 'O', 'O', 'O', 'O', 'LOC', 'LOC', 'LOC', 'O', 'LOC', 'O', 'O', 'O', 'LOC', 'O', 'O', 'O', 'O', 'O', 'O', 'O', 'LOC', 'O', 'O', 'O', 'O', 'O', 'O', 'O', 'O', 'O', 'O', 'O', 'O', 'O', 'O', 'O', 'O', 'O', 'O', 'O', 'O', 'O', 'O', 'O', 'O', 'ORG', 'O', 'O', 'O', 'O', 'O', 'O', 'O', 'O', 'O', 'O', 'O', 'O', 'O', 'O'] \n",
      "\n"
     ]
    }
   ],
   "source": [
    "# Переписываем предложения через замапленные индексы:\n",
    "X = [[word2id[w[0]] for w in s] for s in grouped_df]\n",
    "print(f'{X[0]}\\n <=============> \\n {[id2word[x] for x in X[0]]} \\n')\n",
    "\n",
    "# Переписываем теги предложения через замапленные индексы:\n",
    "y = [[tag2id[w[2]] for w in s] for s in grouped_df]\n",
    "print(f'{y[0]}\\n <=============> \\n {[id2tag[y] for y in y[0]]} \\n')"
   ]
  },
  {
   "cell_type": "code",
   "execution_count": 37,
   "metadata": {},
   "outputs": [
    {
     "name": "stdout",
     "output_type": "stream",
     "text": [
      "[ 67676  22559  92323  13268   4748  33555  74544  78707  60998  83613\n",
      "  77251  28450  89317  87418  93750  87715  83613  34736  83613  58004\n",
      "  14174  13268  59352  93750  11023 100852 109209  67323  37771    493\n",
      "  43145  19304  56467  93860  45856  19591  67323  52301  83613  11811\n",
      " 100123  30040 109930 101525  57441  80158  24123  74544  57157  53561\n",
      "  29904  39293  18641  70429  61126  70871  22807  21014 108113  10651\n",
      "  32868  88940  41950  30040  89826 104223 111177  56449  47221   1035\n",
      "  57898  25516  83613  61968  59607]\n",
      " ====================================>: \n",
      " ['деятельности', 'В', 'методичке', 'в', 'частности', 'говорится', 'что', 'к', 'людям', 'и', 'их', 'проблемам', 'следует', 'относиться', 'с', 'уважением', 'и', 'вниманием', 'и', 'не', 'допускать', 'в', 'общении', 'с', 'ними', 'унижающих', 'достоинство', 'высказываний', 'Этические', 'нормы', 'приняты', 'на', 'фоне', 'многочисленных', 'скандалов', 'из-за', 'высказываний', 'чиновников', 'и', 'парламентариев', 'Например', 'депутат', 'городской', 'думы', 'Саратова', 'Николай Островский', 'заявил', 'что', 'народ', 'должен', 'государству', 'глава', 'департамента', 'молодежной', 'политики', 'администрации', 'Свердловской области', 'Ольга Глацких', 'сообщила', 'о', 'ненужности', 'молодежи', 'а', 'депутат', 'гордумы', 'Ярославля', 'Дмитрий Петровский', 'выступил', 'за', 'полную', 'отмену', 'пенсии', 'и', 'бесплатной', 'медицины'] \n",
      "\n",
      "[4 4 4 4 4 4 4 4 4 4 4 4 4 4 4 4 4 4 4 4 4 4 4 4 4 4 4 4 4 4 4 4 4 4 4 4 4\n",
      " 4 4 4 4 4 4 4 3 2 4 4 4 4 4 4 4 4 4 4 3 2 4 4 4 4 4 4 4 3 2 4 4 4 4 4 4 4\n",
      " 4]\n",
      " ====================================>: \n",
      " ['O', 'O', 'O', 'O', 'O', 'O', 'O', 'O', 'O', 'O', 'O', 'O', 'O', 'O', 'O', 'O', 'O', 'O', 'O', 'O', 'O', 'O', 'O', 'O', 'O', 'O', 'O', 'O', 'O', 'O', 'O', 'O', 'O', 'O', 'O', 'O', 'O', 'O', 'O', 'O', 'O', 'O', 'O', 'O', 'LOC', 'PER', 'O', 'O', 'O', 'O', 'O', 'O', 'O', 'O', 'O', 'O', 'LOC', 'PER', 'O', 'O', 'O', 'O', 'O', 'O', 'O', 'LOC', 'PER', 'O', 'O', 'O', 'O', 'O', 'O', 'O', 'O'] \n",
      "\n"
     ]
    }
   ],
   "source": [
    "# Приводим к одной длине:\n",
    "X = pad_sequences(maxlen=MAX_LEN, sequences=X, padding=\"post\", value=word2id[\"PAD\"])\n",
    "print(f'{X[10]}\\n ====================================>: \\n {[id2word[x] for x in X[10]]} \\n')\n",
    "\n",
    "y = pad_sequences(maxlen=MAX_LEN, sequences=y, padding=\"post\", value=tag2id[\"PAD\"])\n",
    "print(f'{y[10]}\\n ====================================>: \\n {[id2tag[y] for y in y[10]]} \\n')"
   ]
  },
  {
   "cell_type": "code",
   "execution_count": 38,
   "metadata": {},
   "outputs": [],
   "source": [
    "from keras.utils import to_categorical\n",
    "# One-Hot encode:\n",
    "y = [to_categorical(i, num_classes=n_tags+1) for i in y]  # n_tags+1(PAD)"
   ]
  },
  {
   "cell_type": "code",
   "execution_count": 39,
   "metadata": {},
   "outputs": [],
   "source": [
    "from sklearn.model_selection import train_test_split\n",
    "X_tr, X_te, y_tr, y_te = train_test_split(X, y, test_size=0.1)"
   ]
  },
  {
   "cell_type": "code",
   "execution_count": 40,
   "metadata": {},
   "outputs": [],
   "source": [
    "keras.backend.clear_session()"
   ]
  },
  {
   "cell_type": "code",
   "execution_count": 41,
   "metadata": {},
   "outputs": [
    {
     "name": "stderr",
     "output_type": "stream",
     "text": [
      "C:\\Users\\gleb3\\AppData\\Local\\Programs\\Python\\Python37\\lib\\site-packages\\keras_contrib\\layers\\crf.py:346: UserWarning: CRF.loss_function is deprecated and it might be removed in the future. Please use losses.crf_loss instead.\n",
      "  warnings.warn('CRF.loss_function is deprecated '\n",
      "C:\\Users\\gleb3\\AppData\\Local\\Programs\\Python\\Python37\\lib\\site-packages\\keras_contrib\\layers\\crf.py:353: UserWarning: CRF.accuracy is deprecated and it might be removed in the future. Please use metrics.crf_accuracy\n",
      "  warnings.warn('CRF.accuracy is deprecated and it '\n"
     ]
    },
    {
     "name": "stdout",
     "output_type": "stream",
     "text": [
      "Model: \"model_1\"\n",
      "_________________________________________________________________\n",
      "Layer (type)                 Output Shape              Param #   \n",
      "=================================================================\n",
      "input_1 (InputLayer)         (None, 75)                0         \n",
      "_________________________________________________________________\n",
      "embedding_1 (Embedding)      (None, 75, 20)            2268260   \n",
      "_________________________________________________________________\n",
      "bidirectional_1 (Bidirection (None, 75, 100)           28400     \n",
      "_________________________________________________________________\n",
      "time_distributed_1 (TimeDist (None, 75, 50)            5050      \n",
      "_________________________________________________________________\n",
      "crf_1 (CRF)                  (None, 75, 5)             290       \n",
      "=================================================================\n",
      "Total params: 2,302,000\n",
      "Trainable params: 2,302,000\n",
      "Non-trainable params: 0\n",
      "_________________________________________________________________\n"
     ]
    }
   ],
   "source": [
    "from keras.models import Model, Input\n",
    "from keras.layers import LSTM, Embedding, Dense, TimeDistributed, Dropout, Bidirectional\n",
    "from keras_contrib.layers import CRF\n",
    "\n",
    "input = Input(shape=(MAX_LEN,))\n",
    "model = Embedding(input_dim=n_words+2, output_dim=EMBEDDING, input_length=MAX_LEN)(input)\n",
    "model = Bidirectional(LSTM(units=50, return_sequences=True, recurrent_dropout=0.1))(model)\n",
    "model = TimeDistributed(Dense(50, activation=\"relu\"))(model)\n",
    "crf = CRF(n_tags+1)\n",
    "out = crf(model)\n",
    "\n",
    "model = Model(input, out)\n",
    "model.compile(optimizer=\"rmsprop\", loss=crf.loss_function, metrics=[crf.accuracy])\n",
    "\n",
    "model.summary()"
   ]
  },
  {
   "cell_type": "code",
   "execution_count": 42,
   "metadata": {},
   "outputs": [
    {
     "data": {
      "text/plain": [
       "[name: \"/device:CPU:0\"\n",
       " device_type: \"CPU\"\n",
       " memory_limit: 268435456\n",
       " locality {\n",
       " }\n",
       " incarnation: 10633521143372068147,\n",
       " name: \"/device:GPU:0\"\n",
       " device_type: \"GPU\"\n",
       " memory_limit: 3059430196\n",
       " locality {\n",
       "   bus_id: 1\n",
       "   links {\n",
       "   }\n",
       " }\n",
       " incarnation: 14918967514271884954\n",
       " physical_device_desc: \"device: 0, name: NVIDIA GeForce GTX 1650 with Max-Q Design, pci bus id: 0000:01:00.0, compute capability: 7.5\"]"
      ]
     },
     "execution_count": 42,
     "metadata": {},
     "output_type": "execute_result"
    }
   ],
   "source": [
    "device_lib.list_local_devices()"
   ]
  },
  {
   "cell_type": "code",
   "execution_count": 43,
   "metadata": {},
   "outputs": [],
   "source": [
    "tf.debugging.set_log_device_placement(True)"
   ]
  },
  {
   "cell_type": "code",
   "execution_count": 44,
   "metadata": {},
   "outputs": [
    {
     "name": "stdout",
     "output_type": "stream",
     "text": [
      "Device mapping:\n",
      "/job:localhost/replica:0/task:0/device:GPU:0 -> device: 0, name: NVIDIA GeForce GTX 1650 with Max-Q Design, pci bus id: 0000:01:00.0, compute capability: 7.5\n",
      "\n",
      "Train on 4824 samples, validate on 536 samples\n",
      "Epoch 1/5\n",
      "4824/4824 [==============================] - 59s 12ms/step - loss: 0.4454 - crf_viterbi_accuracy: 0.8922 - val_loss: 0.3243 - val_crf_viterbi_accuracy: 0.9239\n",
      "Epoch 2/5\n",
      "4824/4824 [==============================] - 58s 12ms/step - loss: 0.2382 - crf_viterbi_accuracy: 0.9350 - val_loss: 0.1756 - val_crf_viterbi_accuracy: 0.9450\n",
      "Epoch 3/5\n",
      "4824/4824 [==============================] - 58s 12ms/step - loss: 0.1317 - crf_viterbi_accuracy: 0.9514 - val_loss: 0.1429 - val_crf_viterbi_accuracy: 0.9509\n",
      "Epoch 4/5\n",
      "4824/4824 [==============================] - 55s 11ms/step - loss: 0.0840 - crf_viterbi_accuracy: 0.9669 - val_loss: 0.1249 - val_crf_viterbi_accuracy: 0.9587\n",
      "Epoch 5/5\n",
      "4824/4824 [==============================] - 54s 11ms/step - loss: 0.0575 - crf_viterbi_accuracy: 0.9774 - val_loss: 0.1760 - val_crf_viterbi_accuracy: 0.9304\n"
     ]
    }
   ],
   "source": [
    "history = model.fit(np.array(X_tr), np.array(y_tr), batch_size=BATCH_SIZE, epochs=EPOCHS, validation_split=0.1, verbose=1)"
   ]
  },
  {
   "cell_type": "code",
   "execution_count": 45,
   "metadata": {},
   "outputs": [],
   "source": [
    "pred_cat = model.predict(X_te)\n",
    "pred = np.argmax(pred_cat, axis=-1)\n",
    "y_te_true = np.argmax(y_te, -1)"
   ]
  },
  {
   "cell_type": "code",
   "execution_count": 46,
   "metadata": {},
   "outputs": [
    {
     "name": "stderr",
     "output_type": "stream",
     "text": [
      "C:\\Users\\gleb3\\AppData\\Local\\Programs\\Python\\Python37\\lib\\site-packages\\sklearn\\utils\\validation.py:72: FutureWarning: Pass labels=None as keyword args. From version 1.0 (renaming of 0.25) passing these as positional arguments will result in an error\n",
      "  \"will result in an error\", FutureWarning)\n"
     ]
    },
    {
     "name": "stdout",
     "output_type": "stream",
     "text": [
      "              precision    recall  f1-score   support\n",
      "\n",
      "         LOC       0.89      0.77      0.82      1524\n",
      "           O       0.99      0.95      0.97     41017\n",
      "         ORG       0.54      0.52      0.53       922\n",
      "         PAD       0.99      1.00      1.00       143\n",
      "         PER       0.24      0.62      0.34      1094\n",
      "\n",
      "    accuracy                           0.93     44700\n",
      "   macro avg       0.73      0.77      0.73     44700\n",
      "weighted avg       0.96      0.93      0.94     44700\n",
      "\n"
     ]
    }
   ],
   "source": [
    "from sklearn_crfsuite.metrics import flat_classification_report\n",
    "\n",
    "# Convert the index to tag\n",
    "pred_tag = [[id2tag[i] for i in row] for row in pred]\n",
    "y_te_true_tag = [[id2tag[i] for i in row] for row in y_te_true] \n",
    "\n",
    "report = flat_classification_report(y_pred=pred_tag, y_true=y_te_true_tag)\n",
    "print(report)"
   ]
  },
  {
   "cell_type": "code",
   "execution_count": 47,
   "metadata": {},
   "outputs": [
    {
     "data": {
      "application/vnd.jupyter.widget-view+json": {
       "model_id": "fa62cc52b1c447a68462a2d12ed4241d",
       "version_major": 2,
       "version_minor": 0
      },
      "text/plain": [
       "interactive(children=(Textarea(value='', description='sentence', placeholder='Предложение'), Button(descriptio…"
      ]
     },
     "metadata": {},
     "output_type": "display_data"
    }
   ],
   "source": [
    "from ipywidgets import interact_manual\n",
    "from ipywidgets import widgets\n",
    "\n",
    "import re\n",
    "import string\n",
    "\n",
    "re_tok = re.compile(f'([{string.punctuation}“”¨«»®´·º½¾¿¡§£₤‘’])')\n",
    "def tokenize(s): return re_tok.sub(r' \\1 ', s).split()\n",
    "    \n",
    "def get_prediction(sentence):\n",
    "    test_sentence = tokenize(sentence) # Tokenization\n",
    "    x_test_sent = pad_sequences(sequences=[[word2id.get(w, 0) for w in test_sentence]],\n",
    "                                padding=\"post\", value=word2id[\"PAD\"], maxlen=MAX_LEN)\n",
    "    p = model.predict(np.array([x_test_sent[0]]))\n",
    "    p = np.argmax(p, axis=-1)\n",
    "    print(\"{:15}||{}\".format(\"Слово\", \" Предсказание\"))\n",
    "    print(30 * \"=\")\n",
    "    for w, pred in zip(test_sentence, p[0]):\n",
    "        print(\"{:15}: {:5}\".format(w, id2tag[pred]))\n",
    "        \n",
    "interact_manual(get_prediction, sentence=widgets.Textarea(placeholder='Предложение'));"
   ]
  },
  {
   "cell_type": "code",
   "execution_count": null,
   "metadata": {},
   "outputs": [],
   "source": []
  }
 ],
 "metadata": {
  "kernelspec": {
   "display_name": "Python 3",
   "language": "python",
   "name": "python3"
  },
  "language_info": {
   "codemirror_mode": {
    "name": "ipython",
    "version": 3
   },
   "file_extension": ".py",
   "mimetype": "text/x-python",
   "name": "python",
   "nbconvert_exporter": "python",
   "pygments_lexer": "ipython3",
   "version": "3.7.1"
  }
 },
 "nbformat": 4,
 "nbformat_minor": 4
}
