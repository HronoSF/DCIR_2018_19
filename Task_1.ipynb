{
 "cells": [
  {
   "cell_type": "markdown",
   "metadata": {},
   "source": [
    "# Задание 1\n",
    "\n",
    "[Свертка списка](https://ru.wikipedia.org/wiki/%D0%A1%D0%B2%D1%91%D1%80%D1%82%D0%BA%D0%B0_%D1%81%D0%BF%D0%B8%D1%81%D0%BA%D0%B0) -  это обобщенная операция над списком, c помощью которой можно преобразовать список в единое значение. Например, рассмотрим реализации свертки слева и свертки справа (левоассоциативную свертку и правоассоциативную свертку):"
   ]
  },
  {
   "cell_type": "code",
   "execution_count": 120,
   "metadata": {
    "jupyter": {
     "outputs_hidden": true
    }
   },
   "outputs": [],
   "source": [
    "def foldl(f, x0, lst):\n",
    "    if not lst:\n",
    "        return x0\n",
    "    return foldl(f, f(x0, lst[0]), lst[1:])\n",
    "\n",
    "def foldr(f, x0, lst):\n",
    "    if not lst:\n",
    "        return x0\n",
    "    return f(lst[0], foldr(f, x0, lst[1:]))"
   ]
  },
  {
   "cell_type": "code",
   "execution_count": 121,
   "metadata": {},
   "outputs": [
    {
     "data": {
      "text/plain": [
       "6"
      ]
     },
     "execution_count": 121,
     "metadata": {},
     "output_type": "execute_result"
    }
   ],
   "source": [
    "#сумма\n",
    "foldl(lambda x, y: x + y, 0, [1, 2, 3])"
   ]
  },
  {
   "cell_type": "code",
   "execution_count": 122,
   "metadata": {},
   "outputs": [
    {
     "data": {
      "text/plain": [
       "'123'"
      ]
     },
     "execution_count": 122,
     "metadata": {},
     "output_type": "execute_result"
    }
   ],
   "source": [
    "#конкатенация\n",
    "foldl(lambda x, y: '{}{}'.format(x, y), '', [1, 2, 3])"
   ]
  },
  {
   "cell_type": "code",
   "execution_count": 123,
   "metadata": {},
   "outputs": [
    {
     "data": {
      "text/plain": [
       "(0.16666666666666666, 1.5)"
      ]
     },
     "execution_count": 123,
     "metadata": {},
     "output_type": "execute_result"
    }
   ],
   "source": [
    "f = lambda x, y: x / y\n",
    "foldl(f, 1, [1, 2, 3]), \\\n",
    "foldr(f, 1, [1, 2, 3])"
   ]
  },
  {
   "cell_type": "markdown",
   "metadata": {},
   "source": [
    "Задача: реализовать foldl через foldr и наоборот. Вместо многоточий нужно вставить выражения, которые бы привели к нужному результату."
   ]
  },
  {
   "cell_type": "code",
   "execution_count": 124,
   "metadata": {},
   "outputs": [],
   "source": [
    "def foldl_with_foldr(f,x0,lst):\n",
    "    composed=foldr(lambda seqval,acc: lambda n: acc(f(n, seqval)),lambda identity: identity,lst)\n",
    "    return composed(x0)"
   ]
  },
  {
   "cell_type": "code",
   "execution_count": 125,
   "metadata": {},
   "outputs": [],
   "source": [
    "def foldr_with_foldl(f,x0,lst):\n",
    "    composed=foldl(lambda acc,seqval: lambda n: acc(f(seqval,n)),lambda identity: identity,lst)\n",
    "    return composed(x0)"
   ]
  },
  {
   "cell_type": "markdown",
   "metadata": {},
   "source": [
    "# Задание 2\n",
    "\n",
    "нужно написать функцию, которая принимает две строки и проверяет, входит ли хотя бы одна перестановка второй строки в первую. Например:\n",
    "\n",
    "> a = 'abcrotm'\n",
    "> \n",
    "> b = 'tro'\n",
    "\n",
    "функция def check_inv(a, b) вернет True, так как 'rot' содержится в 'abcrotm'. Нужно подумать как можно более оптимальный алгоритм и оценить его сложность. "
   ]
  },
  {
   "cell_type": "code",
   "execution_count": 126,
   "metadata": {
    "jupyter": {
     "outputs_hidden": true
    }
   },
   "outputs": [],
   "source": [
    "from collections import Counter\n",
    "def check_inv(a, b):\n",
    "    if (len(a)<len(b)):\n",
    "        return False\n",
    "    a_map_letter_to_frequency=Counter(a)\n",
    "    b_map_letter_to_frequency=Counter(b)\n",
    "    return not bool(b_map_letter_to_frequency - a_map_letter_to_frequency)"
   ]
  },
  {
   "cell_type": "markdown",
   "metadata": {},
   "source": [
    "n - length a, m - length b; \\\n",
    "Constructing Maps is O(n)+O(m); \\\n",
    "Getting from first Map is O(1) and O(1) to delete from second for one iter => \n",
    "## Complexity is: O(n+m)"
   ]
  },
  {
   "cell_type": "markdown",
   "metadata": {},
   "source": [
    "# Задание 3\n",
    "\n",
    "Реализовать бинарное дерево (класс Tree), в нём методы __repr__, __str__, __iter__ (итерация только по листьям)."
   ]
  },
  {
   "cell_type": "code",
   "execution_count": 127,
   "metadata": {},
   "outputs": [
    {
     "data": {
      "text/plain": [
       "True"
      ]
     },
     "execution_count": 127,
     "metadata": {},
     "output_type": "execute_result"
    }
   ],
   "source": [
    "class Tree:\n",
    "    def __init__(self, value=None, left=None, right=None):\n",
    "        self.left = left\n",
    "        self.right = right\n",
    "        self.value = value\n",
    "        \n",
    "    def __iter__(self):\n",
    "        if self.left == None and self.right == None:\n",
    "            yield self.value\n",
    "        \n",
    "        if self.left != None:\n",
    "            yield from self.left\n",
    "                \n",
    "        if self.right != None:\n",
    "            yield from self.right\n",
    "    \n",
    "    def __str__(self):\n",
    "         return \"BinarySearchTree(\" + repr(self.root) + \")\"\n",
    "    \n",
    "    def __repr__(self):\n",
    "         return \"BinarySearchTree.Node(\" + repr(self.value) + \",\" + repr(self.left) + \",\" + repr(self.right) + \")\"\n",
    "    \n",
    "tree = Tree(0, Tree(1, Tree(3), Tree(4)),Tree(2))\n",
    "list(tree) == [3, 4, 2]"
   ]
  },
  {
   "cell_type": "markdown",
   "metadata": {},
   "source": [
    "# Задание 4\n",
    "\n",
    "Реализовать простейший калькулятор математических выражений:\n",
    "- только целые числа\n",
    "- **+**, **\\-**, **\\***, **\\**\n",
    "- скобки\n",
    "\n",
    "**Можно использовать регулярные выражения**"
   ]
  },
  {
   "cell_type": "markdown",
   "metadata": {},
   "source": [
    "I decided to use simplest solution of problem - Reverse Polish Notation:"
   ]
  },
  {
   "cell_type": "code",
   "execution_count": 128,
   "metadata": {},
   "outputs": [],
   "source": [
    "import re\n",
    "operations = {\n",
    "  \"+\": (lambda a, b: a + b),\n",
    "  \"-\": (lambda a, b: a - b),\n",
    "  \"*\": (lambda a, b: a * b),\n",
    "  \"/\": (lambda a, b: a / b)\n",
    "}"
   ]
  },
  {
   "cell_type": "markdown",
   "metadata": {},
   "source": [
    "Method to handle cases such -2 and (-2):"
   ]
  },
  {
   "cell_type": "code",
   "execution_count": 129,
   "metadata": {},
   "outputs": [],
   "source": [
    "def hadle_special_cases(expression):\n",
    "    preparedExpression=''\n",
    "    for i in range(len(expression)):\n",
    "        currentSymbol = expression[i]\n",
    "        \n",
    "        if(currentSymbol == '-'):\n",
    "            if(i == 0):\n",
    "                preparedExpression+='0'\n",
    "                \n",
    "            if(expression[i-1] == '('):\n",
    "                preparedExpression+='0'\n",
    "            \n",
    "        preparedExpression+=currentSymbol\n",
    "        \n",
    "    return preparedExpression"
   ]
  },
  {
   "cell_type": "markdown",
   "metadata": {},
   "source": [
    "Parse input string to RPN:"
   ]
  },
  {
   "cell_type": "code",
   "execution_count": 130,
   "metadata": {
    "jupyter": {
     "outputs_hidden": true
    }
   },
   "outputs": [],
   "source": [
    "def parse_expression_to_RPN(expression):\n",
    "    expression = hadle_special_cases(expression)\n",
    "    rpnExpression=''\n",
    "    operationStack=[]\n",
    "    \n",
    "    for i in range (len(expression)):\n",
    "        currentSymbol = expression[i]\n",
    "        currentPriority=getPriority(expression[i])\n",
    "        \n",
    "        if(re.match('[0-9]',currentSymbol)):\n",
    "            rpnExpression+=currentSymbol\n",
    "            \n",
    "        if(currentSymbol == '('):\n",
    "            operationStack.append(currentSymbol)\n",
    "            \n",
    "        if (re.match('[\\+*/-]',currentSymbol)):\n",
    "            rpnExpression+=' '\n",
    "            while (operationStack):\n",
    "                if (getPriority(operationStack[-1])>=currentPriority):\n",
    "                    rpnExpression+=operationStack.pop()\n",
    "                    rpnExpression+=' '\n",
    "                else: break\n",
    "            operationStack.append(currentSymbol)\n",
    "                    \n",
    "        if (currentPriority == -1):\n",
    "            rpnExpression+=' '\n",
    "            while (getPriority(operationStack[-1]) != 1):\n",
    "                 rpnExpression+=operationStack.pop()\n",
    "                 rpnExpression+=' '\n",
    "            operationStack.pop()\n",
    "       \n",
    "    while (operationStack):\n",
    "        rpnExpression+=' '\n",
    "        rpnExpression+=operationStack.pop();\n",
    "    return rpnExpression\n",
    "    "
   ]
  },
  {
   "cell_type": "markdown",
   "metadata": {},
   "source": [
    "parse fron RPN to digit answer:"
   ]
  },
  {
   "cell_type": "code",
   "execution_count": 131,
   "metadata": {},
   "outputs": [],
   "source": [
    "def parse_RPN_to_answer(rpn):\n",
    "    tokens = rpn.split()\n",
    "    resultStack= []\n",
    "\n",
    "    for token in tokens:\n",
    "        if token in operations:\n",
    "            b = resultStack.pop()\n",
    "            a = resultStack.pop()\n",
    "            result = operations[token](a, b)\n",
    "            resultStack.append(result)\n",
    "        else:\n",
    "            resultStack.append(int(token))\n",
    "\n",
    "    return resultStack.pop()"
   ]
  },
  {
   "cell_type": "code",
   "execution_count": 132,
   "metadata": {},
   "outputs": [
    {
     "data": {
      "text/plain": [
       "True"
      ]
     },
     "execution_count": 132,
     "metadata": {},
     "output_type": "execute_result"
    }
   ],
   "source": [
    "def calc(expr):\n",
    "    rpn=parse_expression_to_RPN(expr)\n",
    "    return parse_RPN_to_answer(rpn)\n",
    "\n",
    "calc('2 * (15 - 3 * 4) - 2')==4"
   ]
  }
 ],
 "metadata": {
  "kernelspec": {
   "display_name": "Python 3",
   "language": "python",
   "name": "python3"
  },
  "language_info": {
   "codemirror_mode": {
    "name": "ipython",
    "version": 3
   },
   "file_extension": ".py",
   "mimetype": "text/x-python",
   "name": "python",
   "nbconvert_exporter": "python",
   "pygments_lexer": "ipython3",
   "version": "3.7.4"
  }
 },
 "nbformat": 4,
 "nbformat_minor": 4
}
