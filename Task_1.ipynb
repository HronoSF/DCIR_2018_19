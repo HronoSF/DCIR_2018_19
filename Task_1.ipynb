{
 "cells": [
  {
   "cell_type": "markdown",
   "metadata": {},
   "source": [
    "# Задание 1\n",
    "\n",
    "[Свертка списка](https://ru.wikipedia.org/wiki/%D0%A1%D0%B2%D1%91%D1%80%D1%82%D0%BA%D0%B0_%D1%81%D0%BF%D0%B8%D1%81%D0%BA%D0%B0) -  это обобщенная операция над списком, c помощью которой можно преобразовать список в единое значение. Например, рассмотрим реализации свертки слева и свертки справа (левоассоциативную свертку и правоассоциативную свертку):"
   ]
  },
  {
   "cell_type": "code",
   "execution_count": 120,
   "metadata": {
    "jupyter": {
     "outputs_hidden": true
    }
   },
   "outputs": [],
   "source": [
    "def foldl(f, x0, lst):\n",
    "    if not lst:\n",
    "        return x0\n",
    "    return foldl(f, f(x0, lst[0]), lst[1:])\n",
    "\n",
    "def foldr(f, x0, lst):\n",
    "    if not lst:\n",
    "        return x0\n",
    "    return f(lst[0], foldr(f, x0, lst[1:]))"
   ]
  },
  {
   "cell_type": "code",
   "execution_count": 121,
   "metadata": {},
   "outputs": [
    {
     "data": {
      "text/plain": [
       "6"
      ]
     },
     "execution_count": 121,
     "metadata": {},
     "output_type": "execute_result"
    }
   ],
   "source": [
    "#сумма\n",
    "foldl(lambda x, y: x + y, 0, [1, 2, 3])"
   ]
  },
  {
   "cell_type": "code",
   "execution_count": 122,
   "metadata": {},
   "outputs": [
    {
     "data": {
      "text/plain": [
       "'123'"
      ]
     },
     "execution_count": 122,
     "metadata": {},
     "output_type": "execute_result"
    }
   ],
   "source": [
    "#конкатенация\n",
    "foldl(lambda x, y: '{}{}'.format(x, y), '', [1, 2, 3])"
   ]
  },
  {
   "cell_type": "code",
   "execution_count": 123,
   "metadata": {},
   "outputs": [
    {
     "data": {
      "text/plain": [
       "(0.16666666666666666, 1.5)"
      ]
     },
     "execution_count": 123,
     "metadata": {},
     "output_type": "execute_result"
    }
   ],
   "source": [
    "f = lambda x, y: x / y\n",
    "foldl(f, 1, [1, 2, 3]), \\\n",
    "foldr(f, 1, [1, 2, 3])"
   ]
  },
  {
   "cell_type": "markdown",
   "metadata": {},
   "source": [
    "Задача: реализовать foldl через foldr и наоборот. Вместо многоточий нужно вставить выражения, которые бы привели к нужному результату."
   ]
  },
  {
   "cell_type": "code",
   "execution_count": 124,
   "metadata": {},
   "outputs": [],
   "source": [
    "def foldl_with_foldr(f,x0,lst):\n",
    "    composed=foldr(lambda seqval,acc: lambda n: acc(f(n, seqval)),lambda identity: identity,lst)\n",
    "    return composed(x0)"
   ]
  },
  {
   "cell_type": "code",
   "execution_count": 125,
   "metadata": {},
   "outputs": [],
   "source": [
    "def foldr_with_foldl(f,x0,lst):\n",
    "    composed=foldl(lambda acc,seqval: lambda n: acc(f(seqval,n)),lambda identity: identity,lst)\n",
    "    return composed(x0)"
   ]
  },
  {
   "cell_type": "markdown",
   "metadata": {},
   "source": [
    "# Задание 2\n",
    "\n",
    "нужно написать функцию, которая принимает две строки и проверяет, входит ли хотя бы одна перестановка второй строки в первую. Например:\n",
    "\n",
    "> a = 'abcrotm'\n",
    "> \n",
    "> b = 'tro'\n",
    "\n",
    "функция def check_inv(a, b) вернет True, так как 'rot' содержится в 'abcrotm'. Нужно подумать как можно более оптимальный алгоритм и оценить его сложность. "
   ]
  },
  {
   "cell_type": "code",
   "execution_count": null,
   "metadata": {
    "jupyter": {
     "outputs_hidden": true
    }
   },
   "outputs": [],
   "source": [
    "#n - len of a; m - len of b\n",
    "def check_inv(a, b):  \n",
    "    b_dict = {ch : 0 for ch in b} #O(m)\n",
    "    b_dict_check = dict() #O(1)\n",
    "    for ch in b: #O(m)\n",
    "        b_dict[ch] = b_dict[ch] + 1 #O(1)\n",
    "    for i in range(0, len(a)): #O(n)\n",
    "        is_added = False\n",
    "        if a[i] in b_dict: #O(1)\n",
    "            is_added = True\n",
    "            if a[i] in b_dict_check: #O(1)\n",
    "                b_dict_check[a[i]] = b_dict_check[a[i]] + 1 #O(1)\n",
    "            else:\n",
    "                b_dict_check[a[i]] = 1 #O(1)\n",
    "        else:\n",
    "            b_dict_check.clear() #O(1)\n",
    "            is_added = False\n",
    "        if is_added:\n",
    "            if b_dict == b_dict_check:\n",
    "                return True\n",
    "    return False"
   ]
  },
  {
   "cell_type": "code",
   "execution_count": 58,
   "metadata": {},
   "outputs": [
    {
     "data": {
      "text/plain": [
       "False"
      ]
     },
     "execution_count": 58,
     "metadata": {},
     "output_type": "execute_result"
    }
   ],
   "source": [
    "check_inv('rtmo','rto')"
   ]
  },
  {
   "cell_type": "code",
   "execution_count": 61,
   "metadata": {},
   "outputs": [
    {
     "data": {
      "text/plain": [
       "True"
      ]
     },
     "execution_count": 61,
     "metadata": {},
     "output_type": "execute_result"
    }
   ],
   "source": [
    "check_inv('abcrotm','rot')"
   ]
  },
  {
   "cell_type": "markdown",
   "metadata": {},
   "source": [
    "## In worst O(k^2), in average O(n*k)"
   ]
  },
  {
   "cell_type": "markdown",
   "metadata": {},
   "source": [
    "# Задание 3\n",
    "\n",
    "Реализовать бинарное дерево (класс Tree), в нём методы __repr__, __str__, __iter__ (итерация только по листьям)."
   ]
  },
  {
   "cell_type": "code",
   "execution_count": 14,
   "metadata": {},
   "outputs": [
    {
     "name": "stdout",
     "output_type": "stream",
     "text": [
      "True\n",
      "[3, 4, 2]\n",
      "Tree(0, Tree(1, Tree(3, None, None), Tree(4, None, None)), Tree(2, None, None))\n"
     ]
    }
   ],
   "source": [
    "\n",
    "class Tree:\n",
    "    def __init__(self, value=None, left=None, right=None):\n",
    "        self.left = left\n",
    "        self.right = right\n",
    "        self.value = value\n",
    "        \n",
    "    def __iter__(self):\n",
    "        if self.left:\n",
    "            yield from iter(self.left)\n",
    "        if self.right:\n",
    "            yield from iter(self.right)\n",
    "        else:\n",
    "            yield self.value\n",
    "    \n",
    "    def __str__(self):\n",
    "        return '{val}'.format(val = self.value)\n",
    "    \n",
    "    def __repr__(self):\n",
    "        return 'Tree({val}, {l}, {r})'.format(val = self.value, \n",
    "                                              l = repr(self.left), \n",
    "                                              r = repr(self.right))\n",
    "    \n",
    "tree = Tree(0, Tree(1, Tree(3), Tree(4)),                             \n",
    "               Tree(2))\n",
    "\n",
    "print(list(tree) == [3, 4, 2])\n",
    "print(list(tree))\n",
    "print(tree.__repr__())"
   ]
  },
  {
   "cell_type": "markdown",
   "metadata": {},
   "source": [
    "# Задание 4\n",
    "\n",
    "Реализовать простейший калькулятор математических выражений:\n",
    "- только целые числа\n",
    "- **+**, **\\-**, **\\***, **\\**\n",
    "- скобки\n",
    "\n",
    "**Можно использовать регулярные выражения**"
   ]
  },
  {
   "cell_type": "markdown",
   "metadata": {},
   "source": [
    "I decided to use simplest solution of problem - Reverse Polish Notation:"
   ]
  },
  {
   "cell_type": "code",
   "execution_count": 62,
   "metadata": {},
   "outputs": [],
   "source": [
    "import re\n",
    "def getPriority(symbol):\n",
    "    if(symbol == '*' or symbol == '/'):\n",
    "        return 3;\n",
    "    if(symbol == '+' or symbol == '-'):\n",
    "        return 2;  \n",
    "    if(symbol == \"(\"):\n",
    "        return 1\n",
    "    if (symbol == \")\"):\n",
    "        return -1\n",
    "    return 0; "
   ]
  },
  {
   "cell_type": "markdown",
   "metadata": {},
   "source": [
    "Method to handle cases such -2 and (-2):"
   ]
  },
  {
   "cell_type": "code",
   "execution_count": 63,
   "metadata": {},
   "outputs": [],
   "source": [
    "def hadle_special_cases(expression):\n",
    "    preparedExpression=''\n",
    "    for i in range(len(expression)):\n",
    "        currentSymbol = expression[i]\n",
    "        \n",
    "        if(currentSymbol == '-'):\n",
    "            if(i == 0):\n",
    "                preparedExpression+='0'\n",
    "                \n",
    "            if(expression[i-1] == '('):\n",
    "                preparedExpression+='0'\n",
    "            \n",
    "        preparedExpression+=currentSymbol\n",
    "        \n",
    "    return preparedExpression"
   ]
  },
  {
   "cell_type": "markdown",
   "metadata": {},
   "source": [
    "Parse input string to RPN:"
   ]
  },
  {
   "cell_type": "code",
   "execution_count": 64,
   "metadata": {
    "jupyter": {
     "outputs_hidden": true
    }
   },
   "outputs": [],
   "source": [
    "def parse_expression_to_RPN(expression):\n",
    "    expression = hadle_special_cases(expression)\n",
    "    rpnExpression=''\n",
    "    operationStack=[]\n",
    "    \n",
    "    for i in range (len(expression)):\n",
    "        currentSymbol = expression[i]\n",
    "        currentPriority=getPriority(expression[i])\n",
    "        \n",
    "        if(currentPriority == 0):\n",
    "            rpnExpression+=currentSymbol\n",
    "            \n",
    "        if(currentPriority == 1):\n",
    "            operationStack.append(currentSymbol)\n",
    "            \n",
    "        if (currentPriority >1):\n",
    "            rpnExpression+=' '\n",
    "            while (operationStack):\n",
    "                if (getPriority(operationStack[-1])>=currentPriority):\n",
    "                    rpnExpression+=operationStack.pop()\n",
    "                    rpnExpression+=' '\n",
    "                else: break\n",
    "            operationStack.append(currentSymbol)\n",
    "                    \n",
    "        if (currentPriority == -1):\n",
    "            rpnExpression+=' '\n",
    "            while (getPriority(operationStack[-1]) != 1):\n",
    "                 rpnExpression+=operationStack.pop()\n",
    "                 rpnExpression+=' '\n",
    "            operationStack.pop()\n",
    "       \n",
    "    while (operationStack):\n",
    "        rpnExpression+=' '\n",
    "        rpnExpression+=operationStack.pop();\n",
    "    return rpnExpression\n",
    "    "
   ]
  },
  {
   "cell_type": "markdown",
   "metadata": {},
   "source": [
    "parse fron RPN to digit answer:"
   ]
  },
  {
   "cell_type": "code",
   "execution_count": 65,
   "metadata": {},
   "outputs": [],
   "source": [
    "operations = {\n",
    "  \"+\": (lambda a, b: a + b),\n",
    "  \"-\": (lambda a, b: a - b),\n",
    "  \"*\": (lambda a, b: a * b),\n",
    "  \"/\": (lambda a, b: a / b)\n",
    "}"
   ]
  },
  {
   "cell_type": "code",
   "execution_count": 66,
   "metadata": {},
   "outputs": [],
   "source": [
    "def parse_RPN_to_answer(rpn):\n",
    "    tokens = rpn.split()\n",
    "    resultStack= []\n",
    "\n",
    "    for token in tokens:\n",
    "        if token in operations:\n",
    "            b = resultStack.pop()\n",
    "            a = resultStack.pop()\n",
    "            result = operations[token](a, b)\n",
    "            resultStack.append(result)\n",
    "        else:\n",
    "            resultStack.append(int(token))\n",
    "\n",
    "    return resultStack.pop()"
   ]
  },
  {
   "cell_type": "code",
   "execution_count": 67,
   "metadata": {},
   "outputs": [
    {
     "data": {
      "text/plain": [
       "True"
      ]
     },
     "execution_count": 67,
     "metadata": {},
     "output_type": "execute_result"
    }
   ],
   "source": [
    "def calc(expr):\n",
    "    rpn=parse_expression_to_RPN(expr)\n",
    "    return parse_RPN_to_answer(rpn)\n",
    "\n",
    "calc('2 * (15 - 3 * 4) - 2')==4"
   ]
  }
 ],
 "metadata": {
  "kernelspec": {
   "display_name": "Python 3",
   "language": "python",
   "name": "python3"
  },
  "language_info": {
   "codemirror_mode": {
    "name": "ipython",
    "version": 3
   },
   "file_extension": ".py",
   "mimetype": "text/x-python",
   "name": "python",
   "nbconvert_exporter": "python",
   "pygments_lexer": "ipython3",
   "version": "3.7.4"
  }
 },
 "nbformat": 4,
 "nbformat_minor": 4
}
