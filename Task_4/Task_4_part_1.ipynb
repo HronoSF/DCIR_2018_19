{
 "cells": [
  {
   "cell_type": "markdown",
   "metadata": {},
   "source": [
    "## Часть 1\n",
    "Напишите скрипт, который скачивает все данные прошедших губернаторских выборов для всех избирательных участков. \n",
    "\n",
    "Входная точка [по ссылке](http://www.st-petersburg.vybory.izbirkom.ru/region/region/st-petersburg?action=show&root=1&tvd=27820001217417&vrn=27820001217413&region=78&global=&sub_region=78&prver=0&pronetvd=null&vibid=27820001217417&type=222). Затем нужно перейти на сайты территориальных избирательных комиссий. Результаты нужно сохранить в  `cvs`-файл, `sqlite` базе данных или `parquet`-файле. В итоге должна получиться таблица с полями:\n",
    "- название ТИК (территориальная избирательная комиссия, некоторое объединение избирательных участков на определенной территории)\n",
    "- номер УИК (избирательный участок)\n",
    "- 14 стандартных полей из итогового протокола\n",
    "\n",
    "Скрипт должен быть в отдельном `*.py` файле или в отдельном `jupyter`-ноутбуке. "
   ]
  },
  {
   "cell_type": "code",
   "execution_count": 159,
   "metadata": {},
   "outputs": [],
   "source": [
    "from bs4 import BeautifulSoup\n",
    "import requests\n",
    "import re\n",
    "import pandas as pd\n",
    "import sqlite3\n",
    "import json"
   ]
  },
  {
   "cell_type": "code",
   "execution_count": 160,
   "metadata": {},
   "outputs": [],
   "source": [
    "path = 'http://www.st-petersburg.vybory.izbirkom.ru/region/region/st-petersburg?action=show&root=1&tvd=27820001217417&vrn=27820001217413&region=78&global=&sub_region=78&prver=0&pronetvd=null&vibid=27820001217417&type=222'\n",
    "response = requests.get(path)"
   ]
  },
  {
   "cell_type": "code",
   "execution_count": 161,
   "metadata": {},
   "outputs": [],
   "source": [
    "soup = BeautifulSoup(response.text)\n",
    "connection = sqlite3.connect(\"Statistic.db\")"
   ]
  },
  {
   "cell_type": "code",
   "execution_count": 162,
   "metadata": {},
   "outputs": [],
   "source": [
    "table = soup.find('table',{ 'style' : 'width:100%;border-color:#000000' })\n",
    "links_to_TEC=table.findAll('a', attrs={'href': re.compile(\"^http://\")})"
   ]
  },
  {
   "cell_type": "code",
   "execution_count": 163,
   "metadata": {},
   "outputs": [],
   "source": [
    "def preprocess_data(result_table):\n",
    "    \n",
    "    def preprocess_named_statistic(str):\n",
    "        list=str.split(\" \")\n",
    "        list[0] = int(list[0])\n",
    "        list[1] = float(list[1].strip('%'))\n",
    "        return json.dumps(list)\n",
    "\n",
    "    for i in range(2,13):\n",
    "        result_table[list(result_table)[i]]=result_table[list(result_table)[i]].astype(int)\n",
    "\n",
    "    for i in range (13,16):\n",
    "        result_table[list(result_table)[i]] =  result_table[list(result_table)[i]].map(lambda x: preprocess_named_statistic(x))\n",
    "    \n",
    "    return result_table"
   ]
  },
  {
   "cell_type": "code",
   "execution_count": 164,
   "metadata": {},
   "outputs": [],
   "source": [
    "for TEC in links_to_TEC:\n",
    "    response=requests.get(TEC.get('href'))\n",
    "    soupL=BeautifulSoup(response.text)\n",
    "    \n",
    "    table = soupL.find('table',{ 'style' : 'width:100%;border-color:#000000' })\n",
    "        \n",
    "    if table != None:\n",
    "        # считываем таблицу из html страницы:\n",
    "        df = pd.read_html(str(table.findAll('td')),header=0)\n",
    "        # парсим нужным нам образом - склеиваем в одну и переворачивам для удобства хранения:\n",
    "        result_table=df[0].dropna().join(df[1].dropna()).T\n",
    "        # переименовываем колонки для наглядности данных и возвращаем индексы:\n",
    "        result_table.rename(index={'Unnamed: 1' : 'Статистика по',},inplace = True)\n",
    "        result_table.reset_index(inplace=True)\n",
    "        result_table.columns = result_table.iloc[1]\n",
    "        result_table=result_table.drop(result_table.index[1]).drop(result_table.index[0])\n",
    "        # добавляем ТИК к данным  обновляем индексы после дропа лишнего:\n",
    "        new_col=[TEC.text for i in range(result_table.shape[0])]\n",
    "        result_table.insert(loc=0, column='ТИК', value=new_col)\n",
    "        result_table.reset_index(drop=True,inplace=True)\n",
    "        # сохраняем в БДшку:\n",
    "        preprocess_data(result_table).to_sql(\"t_statistic\", connection, if_exists=\"append\")"
   ]
  }
 ],
 "metadata": {
  "kernelspec": {
   "display_name": "Python 3",
   "language": "python",
   "name": "python3"
  },
  "language_info": {
   "codemirror_mode": {
    "name": "ipython",
    "version": 3
   },
   "file_extension": ".py",
   "mimetype": "text/x-python",
   "name": "python",
   "nbconvert_exporter": "python",
   "pygments_lexer": "ipython3",
   "version": "3.7.4"
  }
 },
 "nbformat": 4,
 "nbformat_minor": 4
}
